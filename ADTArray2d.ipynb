{
  "nbformat": 4,
  "nbformat_minor": 0,
  "metadata": {
    "colab": {
      "name": "ADTArray2d.ipynb",
      "provenance": [],
      "authorship_tag": "ABX9TyPRLArhbe/xCjjkF3kKdmay",
      "include_colab_link": true
    },
    "kernelspec": {
      "name": "python3",
      "display_name": "Python 3"
    },
    "language_info": {
      "name": "python"
    }
  },
  "cells": [
    {
      "cell_type": "markdown",
      "metadata": {
        "id": "view-in-github",
        "colab_type": "text"
      },
      "source": [
        "<a href=\"https://colab.research.google.com/github/victornietol/EstructuraDatos_1358/blob/master/ADTArray2d.ipynb\" target=\"_parent\"><img src=\"https://colab.research.google.com/assets/colab-badge.svg\" alt=\"Open In Colab\"/></a>"
      ]
    },
    {
      "cell_type": "code",
      "metadata": {
        "id": "M0_FrzxEGWAu"
      },
      "source": [
        "class Array2d():\n",
        "  def __init__(self, ren, col):\n",
        "    self.__ren = ren\n",
        "    self.__col = col\n",
        "    self.__data = [[' ' for x in range(self.__col)] for x in range(self.__ren)]\n",
        "  \n",
        "  def clear(self, dato):\n",
        "    self.__data = [[dato for x in range(self.__col)] for x in range(self.__ren)]\n",
        "\n",
        "  def get_row_size(self):\n",
        "    return self.__ren\n",
        "\n",
        "  def get_col_size(self):\n",
        "    return self.__col\n",
        "\n",
        "  def set_item(self, ren, col, dato):\n",
        "    self.__data[ren][col] = dato\n",
        "\n",
        "  def get_item(self, ren, col):\n",
        "    return self.__data[ren][col]\n",
        "\n",
        "  def to_string(self):\n",
        "    for i in range(self.__ren):\n",
        "        print(self.__data[i])"
      ],
      "execution_count": 53,
      "outputs": []
    },
    {
      "cell_type": "code",
      "metadata": {
        "id": "HtLSdjQFV5GY"
      },
      "source": [
        "class Alumno():\n",
        "  def __init__(self, nombre, edad, escuela):\n",
        "    self.__nombre = nombre\n",
        "    self.__edad = edad\n",
        "    self.__escuela = escuela\n",
        "\n",
        "  def get_nombre(self):\n",
        "    return self.__nombre\n",
        "\n",
        "  def set_nombre(self, dato):\n",
        "    self.__edad = dato\n",
        "\n",
        "  def get_edad(self):\n",
        "    return self.__edad\n",
        "\n",
        "  def set_edad(self, dato):\n",
        "    self.__edad = dato\n",
        "\n",
        "  def get_escuela(self):\n",
        "    return self.__escuela\n",
        "\n",
        "  def set_escuela(self, dato):\n",
        "    self.__escuela = dato\n",
        "\n",
        "  def to_string(self):\n",
        "    return f\"Nombre: {self.__nombre}, Edad: {self.__edad}, Escuela: {self.__escuela}\""
      ],
      "execution_count": 13,
      "outputs": []
    },
    {
      "cell_type": "code",
      "metadata": {
        "colab": {
          "base_uri": "https://localhost:8080/"
        },
        "id": "lh0Zou9ZXsAL",
        "outputId": "79c298af-eca0-4e12-d6a1-787a29d6214c"
      },
      "source": [
        "#Pruebas\n",
        "example1 = Array2d(3,4)\n",
        "example1.to_string()\n",
        "print(\"----------------------------------------------\")\n",
        "print(example1.get_row_size())\n",
        "print(example1.get_col_size())\n",
        "print(\"----------------------------------------------\")\n",
        "example1.set_item(1,0,17)\n",
        "example1.set_item(0,2,Alumno(\"David\",20,\"Facultad\"))\n",
        "example1.set_item(1,3,\"Nuevo dato\")\n",
        "example1.to_string()\n",
        "print(example1.get_item(0,2))\n",
        "print(\"----------------------------------------------\")\n",
        "example1.clear(\"None\")\n",
        "example1.to_string()"
      ],
      "execution_count": 54,
      "outputs": [
        {
          "output_type": "stream",
          "name": "stdout",
          "text": [
            "[' ', ' ', ' ', ' ']\n",
            "[' ', ' ', ' ', ' ']\n",
            "[' ', ' ', ' ', ' ']\n",
            "----------------------------------------------\n",
            "3\n",
            "4\n",
            "----------------------------------------------\n",
            "[' ', ' ', <__main__.Alumno object at 0x7f3607ecf490>, ' ']\n",
            "[17, ' ', ' ', 'Nuevo dato']\n",
            "[' ', ' ', ' ', ' ']\n",
            "<__main__.Alumno object at 0x7f3607ecf490>\n",
            "----------------------------------------------\n",
            "['None', 'None', 'None', 'None']\n",
            "['None', 'None', 'None', 'None']\n",
            "['None', 'None', 'None', 'None']\n"
          ]
        }
      ]
    }
  ]
}