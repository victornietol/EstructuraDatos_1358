{
  "nbformat": 4,
  "nbformat_minor": 0,
  "metadata": {
    "colab": {
      "name": "JuegoDeLaVida(actualizacion).ipynb",
      "provenance": [],
      "authorship_tag": "ABX9TyPcxdHPbOWBGVG7wj4nvfGb",
      "include_colab_link": true
    },
    "kernelspec": {
      "name": "python3",
      "display_name": "Python 3"
    },
    "language_info": {
      "name": "python"
    }
  },
  "cells": [
    {
      "cell_type": "markdown",
      "metadata": {
        "id": "view-in-github",
        "colab_type": "text"
      },
      "source": [
        "<a href=\"https://colab.research.google.com/github/victornietol/EstructuraDatos_1358/blob/master/JuegoDeLaVida(actualizacion).ipynb\" target=\"_parent\"><img src=\"https://colab.research.google.com/assets/colab-badge.svg\" alt=\"Open In Colab\"/></a>"
      ]
    },
    {
      "cell_type": "code",
      "metadata": {
        "colab": {
          "base_uri": "https://localhost:8080/"
        },
        "id": "HIm1DMIqxcKa",
        "outputId": "06953c69-d540-412e-a8eb-40ead1fc7cdd"
      },
      "source": [
        "!pip install simple_chalk"
      ],
      "execution_count": 1,
      "outputs": [
        {
          "output_type": "stream",
          "name": "stdout",
          "text": [
            "Collecting simple_chalk\n",
            "  Downloading simple_chalk-0.1.0.tar.gz (13 kB)\n",
            "Building wheels for collected packages: simple-chalk\n",
            "  Building wheel for simple-chalk (setup.py) ... \u001b[?25l\u001b[?25hdone\n",
            "  Created wheel for simple-chalk: filename=simple_chalk-0.1.0-py3-none-any.whl size=22163 sha256=f18eb7451850415c3c47c14167e4d3b19cd7896f01f88bbdef98de3bbe0d8c8c\n",
            "  Stored in directory: /root/.cache/pip/wheels/24/e2/84/d54838032016039eef79df1137b91defaa6db068d825dfcdcd\n",
            "Successfully built simple-chalk\n",
            "Installing collected packages: simple-chalk\n",
            "Successfully installed simple-chalk-0.1.0\n"
          ]
        }
      ]
    },
    {
      "cell_type": "code",
      "metadata": {
        "id": "4lSk4qXlAFFa"
      },
      "source": [
        "class Array2D():\n",
        "  \n",
        "  def __init__(self, ren, col):\n",
        "    self.__columnas = col\n",
        "    self.__renglones = ren\n",
        "    self.__data = [[ 0 for i in range(col)]for i in range (ren)]\n",
        "\n",
        "  def to_string(self):\n",
        "    for i in range(self.__renglones):\n",
        "      print(self.__data[i])\n",
        "\n",
        "  def clear(self, dato):\n",
        "    for i in range (self.__renglones):\n",
        "      for x in range(self.__columnas):\n",
        "        self.__data[i][x] = dato\n",
        "\n",
        "  def get_row_size(self):\n",
        "    return self.__renglones\n",
        "\n",
        "  def get_col_size(self):\n",
        "    return self.__columnas\n",
        "  \n",
        "  def set_item(self,ren,col,dato):\n",
        "    self.__data[ren][col] = dato\n",
        "\n",
        "  def get_item(self,ren,col):\n",
        "    return self.__data[ren][col]"
      ],
      "execution_count": 2,
      "outputs": []
    },
    {
      "cell_type": "code",
      "metadata": {
        "id": "mzi6VDNhANcH"
      },
      "source": [
        "class JuegoDelaVidaADT:\n",
        "  def __init__(self,rens,cols,lista_pob_inicial,generaciones):\n",
        "    self.tablero = Array2D( rens , cols)\n",
        "    self.generaciones = generaciones\n",
        "    self.gen = 1\n",
        "    self.rens = rens\n",
        "    self.cols = cols\n",
        "    self.tablero.clear('M')\n",
        "    for par in lista_pob_inicial:\n",
        "      self.tablero.set_item( par[0] , par[1] , 'V')\n",
        "\n",
        "  def to_string(self):\n",
        "    print(f\"------- GENERACIÓN INICIAL\")\n",
        "    self.tablero.to_string()\n",
        "\n",
        "  def get_vecinos(self,r,c):\n",
        "    self.vecinos = []\n",
        "    for ren in range(r-1 , r+2 , 1):\n",
        "      for col in range(c-1 , c+2 , 1):\n",
        "        if (ren < 0) or (col < 0) or (ren > self.rens-1) or (col > self.cols-1) or ((ren == r) and (col == c)):\n",
        "          None\n",
        "        else:\n",
        "          self.vecinos.append((ren,col))\n",
        "    return self.vecinos\n",
        "\n",
        "  def get_vecinos_vivos(self,r,c):\n",
        "    self.lista_vivos = []\n",
        "    self.vecinos = self.get_vecinos(r,c)\n",
        "    for par in self.vecinos:\n",
        "      self.lista_vivos.append(self.tablero.get_item( par[0] , par[1]))\n",
        "    self.vecinos_vivos = self.lista_vivos.count('V')\n",
        "    return self.vecinos_vivos\n",
        "\n",
        "  def aplicar_reglas(self):\n",
        "    for gen in range(self.generaciones):\n",
        "      tmpTablero = Array2D(self.tablero.get_row_size(),self.tablero.get_col_size())\n",
        "      tmpTablero.clear('M')\n",
        "      for renglon in range(self.tablero.get_row_size()):\n",
        "        for columna in range(self.tablero.get_col_size()):\n",
        "          if self.tablero.get_item(renglon,columna) == 'V':\n",
        "            vecinosVivos = self.get_vecinos_vivos(renglon,columna)\n",
        "            if (vecinosVivos == 2) or (vecinosVivos == 3):\n",
        "              tmpTablero.set_item(renglon,columna,'V')\n",
        "            elif (vecinosVivos == 0) or (vecinosVivos == 1):\n",
        "              tmpTablero.set_item(renglon,columna,'M')\n",
        "            elif vecinosVivos >= 4:\n",
        "              tmpTablero.set_item(renglon,columna,'M')   \n",
        "          if self.tablero.get_item(renglon,columna) == 'M':\n",
        "            vecinosVivos = self.get_vecinos_vivos(renglon,columna)\n",
        "            if vecinosVivos == 3:\n",
        "              tmpTablero.set_item(renglon,columna,'V')\n",
        "            else:\n",
        "              pass\n",
        "      self.tablero = tmpTablero  \n",
        "      print(f\"------- GENERACIÓN {self.gen}\")\n",
        "      self.tablero.to_string()\n",
        "      self.gen += 1\n",
        "\n",
        "  def play(self):\n",
        "    self.to_string()\n",
        "    self.aplicar_reglas()"
      ],
      "execution_count": 3,
      "outputs": []
    },
    {
      "cell_type": "code",
      "metadata": {
        "colab": {
          "base_uri": "https://localhost:8080/"
        },
        "id": "egI-_nIIAROz",
        "outputId": "b1294985-f242-4d33-efe7-10b968309553"
      },
      "source": [
        "juego = JuegoDelaVidaADT( 6 , 5, [(2,2),(3,1),(3,2),(3,3)] , 5 )\n",
        "juego.to_string()\n",
        "print(juego.tablero.get_item(2,1))\n",
        "print(juego.get_vecinos(2,3))\n",
        "print(juego.get_vecinos_vivos(2,3))\n",
        "juego.play()"
      ],
      "execution_count": 4,
      "outputs": [
        {
          "output_type": "stream",
          "name": "stdout",
          "text": [
            "------- GENERACIÓN INICIAL\n",
            "['M', 'M', 'M', 'M', 'M']\n",
            "['M', 'M', 'M', 'M', 'M']\n",
            "['M', 'M', 'V', 'M', 'M']\n",
            "['M', 'V', 'V', 'V', 'M']\n",
            "['M', 'M', 'M', 'M', 'M']\n",
            "['M', 'M', 'M', 'M', 'M']\n",
            "M\n",
            "[(1, 2), (1, 3), (1, 4), (2, 2), (2, 4), (3, 2), (3, 3), (3, 4)]\n",
            "3\n",
            "------- GENERACIÓN INICIAL\n",
            "['M', 'M', 'M', 'M', 'M']\n",
            "['M', 'M', 'M', 'M', 'M']\n",
            "['M', 'M', 'V', 'M', 'M']\n",
            "['M', 'V', 'V', 'V', 'M']\n",
            "['M', 'M', 'M', 'M', 'M']\n",
            "['M', 'M', 'M', 'M', 'M']\n",
            "------- GENERACIÓN 1\n",
            "['M', 'M', 'M', 'M', 'M']\n",
            "['M', 'M', 'M', 'M', 'M']\n",
            "['M', 'V', 'V', 'V', 'M']\n",
            "['M', 'V', 'V', 'V', 'M']\n",
            "['M', 'M', 'V', 'M', 'M']\n",
            "['M', 'M', 'M', 'M', 'M']\n",
            "------- GENERACIÓN 2\n",
            "['M', 'M', 'M', 'M', 'M']\n",
            "['M', 'M', 'V', 'M', 'M']\n",
            "['M', 'V', 'M', 'V', 'M']\n",
            "['M', 'M', 'M', 'M', 'M']\n",
            "['M', 'V', 'V', 'V', 'M']\n",
            "['M', 'M', 'M', 'M', 'M']\n",
            "------- GENERACIÓN 3\n",
            "['M', 'M', 'M', 'M', 'M']\n",
            "['M', 'M', 'V', 'M', 'M']\n",
            "['M', 'M', 'V', 'M', 'M']\n",
            "['M', 'V', 'M', 'V', 'M']\n",
            "['M', 'M', 'V', 'M', 'M']\n",
            "['M', 'M', 'V', 'M', 'M']\n",
            "------- GENERACIÓN 4\n",
            "['M', 'M', 'M', 'M', 'M']\n",
            "['M', 'M', 'M', 'M', 'M']\n",
            "['M', 'V', 'V', 'V', 'M']\n",
            "['M', 'V', 'M', 'V', 'M']\n",
            "['M', 'V', 'V', 'V', 'M']\n",
            "['M', 'M', 'M', 'M', 'M']\n",
            "------- GENERACIÓN 5\n",
            "['M', 'M', 'M', 'M', 'M']\n",
            "['M', 'M', 'V', 'M', 'M']\n",
            "['M', 'V', 'M', 'V', 'M']\n",
            "['V', 'M', 'M', 'M', 'V']\n",
            "['M', 'V', 'M', 'V', 'M']\n",
            "['M', 'M', 'V', 'M', 'M']\n"
          ]
        }
      ]
    }
  ]
}