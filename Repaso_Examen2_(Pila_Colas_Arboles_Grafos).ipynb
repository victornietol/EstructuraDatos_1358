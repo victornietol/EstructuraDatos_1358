{
  "nbformat": 4,
  "nbformat_minor": 0,
  "metadata": {
    "colab": {
      "name": "Repaso_Examen2_(Pila/Colas/Arboles/Grafos).ipynb",
      "provenance": [],
      "authorship_tag": "ABX9TyMpXCGfSWVNtzGTcy4pJH26",
      "include_colab_link": true
    },
    "kernelspec": {
      "name": "python3",
      "display_name": "Python 3"
    },
    "language_info": {
      "name": "python"
    }
  },
  "cells": [
    {
      "cell_type": "markdown",
      "metadata": {
        "id": "view-in-github",
        "colab_type": "text"
      },
      "source": [
        "<a href=\"https://colab.research.google.com/github/victornietol/EstructuraDatos_1358/blob/master/Repaso_Examen2_(Pila_Colas_Arboles_Grafos).ipynb\" target=\"_parent\"><img src=\"https://colab.research.google.com/assets/colab-badge.svg\" alt=\"Open In Colab\"/></a>"
      ]
    },
    {
      "cell_type": "markdown",
      "source": [
        "### PILAS"
      ],
      "metadata": {
        "id": "g1509DLcpbUh"
      }
    },
    {
      "cell_type": "code",
      "execution_count": 1,
      "metadata": {
        "id": "J8GKMkNXmZWL"
      },
      "outputs": [],
      "source": [
        "# Pilas\n",
        "\n",
        "class StackADT:\n",
        "  def __init__(self):\n",
        "    self.data = list()\n",
        "    self.tope = 0\n",
        "\n",
        "  def is_empty(self):\n",
        "    return self.tope == 0\n",
        "\n",
        "  def length(self):\n",
        "    return self.tope \n",
        "\n",
        "  def pop(self):\n",
        "    if not self.is_empty():    # en otros lenguajes \"not\" es igual \"!\"\n",
        "      self.tope -=1\n",
        "      return self.data.pop()\n",
        "  \n",
        "  def peek(self):\n",
        "    return self.data[self.tope -1]    # tambien se puede usar --> return self.data[ self.length() - 1]\n",
        "\n",
        "  def push(self, value):\n",
        "    self.data.append(value)\n",
        "    self.tope += 1\n",
        "\n",
        "  def to_string(self):\n",
        "    print(\"Estado de la pìla es: \")\n",
        "    for elem in self.data[::-1]:\n",
        "      print(f\"| {elem} |\")"
      ]
    },
    {
      "cell_type": "code",
      "source": [
        "pila1 = StackADT()\n",
        "pila1.push(34)\n",
        "pila1.push(10)\n",
        "pila1.push(45)\n",
        "pila1.push(4)\n",
        "pila1.push(23)\n",
        "pila1.push(33)\n",
        "print(\"Peek:\",pila1.peek())\n",
        "print(\"Elementos:\",pila1.length())\n",
        "pila1.to_string()\n",
        "elemento_fuera = pila1.pop()\n",
        "print(\"Elemento sacado:\",elemento_fuera)\n",
        "pila1.to_string()\n",
        "print(\"Elementos:\",pila1.length())"
      ],
      "metadata": {
        "colab": {
          "base_uri": "https://localhost:8080/"
        },
        "id": "I8E6ByC_mn5h",
        "outputId": "e03fb879-cfa3-4a1a-d097-e62f749434ba"
      },
      "execution_count": 14,
      "outputs": [
        {
          "output_type": "stream",
          "name": "stdout",
          "text": [
            "Peek: 33\n",
            "Elementos: 6\n",
            "Estado de la pìla es: \n",
            "| 33 |\n",
            "| 23 |\n",
            "| 4 |\n",
            "| 45 |\n",
            "| 10 |\n",
            "| 34 |\n",
            "Elemento sacado: 33\n",
            "Estado de la pìla es: \n",
            "| 23 |\n",
            "| 4 |\n",
            "| 45 |\n",
            "| 10 |\n",
            "| 34 |\n",
            "Elementos: 5\n"
          ]
        }
      ]
    },
    {
      "cell_type": "markdown",
      "source": [
        "### COLAS"
      ],
      "metadata": {
        "id": "50gGeedIpn2f"
      }
    },
    {
      "cell_type": "code",
      "source": [
        "# Cola\n",
        "\n",
        "class QueueADT:\n",
        "  def __init__(self):\n",
        "    self.__data = []\n",
        "\n",
        "  def is_empty(self):\n",
        "    return len(self.__data) == 0\n",
        "\n",
        "  def length(self):\n",
        "    return len(self.__data)\n",
        "\n",
        "  def enqueue(self, elem):\n",
        "    self.__data.append(elem)\n",
        "\n",
        "  def dequeue(self):\n",
        "    if not self.is_empty():\n",
        "      return self.__data.pop(0)\n",
        "\n",
        "  def to_string(self):\n",
        "    for elem in self.__data:\n",
        "      print(f\"| {elem} | <--\", end=\" \")\n",
        "    print(\"\")"
      ],
      "metadata": {
        "id": "o4UmUXG_o1xe"
      },
      "execution_count": 16,
      "outputs": []
    },
    {
      "cell_type": "code",
      "source": [
        "cola = QueueADT()\n",
        "cola.enqueue(22)\n",
        "cola.enqueue(23)\n",
        "cola.enqueue(4)\n",
        "cola.enqueue(45)\n",
        "cola.enqueue(10)\n",
        "cola.enqueue(34)\n",
        "print(\"Longitud:\",cola.length())\n",
        "cola.to_string()\n",
        "print(\"Elemento extraido:\",cola.dequeue())\n",
        "cola.to_string()\n",
        "\n",
        "aux = [22,23,4,45,10,34]  # Otra forma de llenar la cola\n",
        "cola2 = QueueADT()\n",
        "for valores in range(len(aux)):\n",
        "  cola2.enqueue(aux.pop(0))\n",
        "print('------- Pila 2 -------')\n",
        "cola2.to_string()\n",
        "\n",
        "aux2 = [22,23,4,45,10,34]  # Otra forma de llenar la pila\n",
        "cola3 = QueueADT()\n",
        "for valores in aux2:\n",
        "  cola3.enqueue(valores)\n",
        "print('----- Pila 3 -----')\n",
        "cola3.to_string()"
      ],
      "metadata": {
        "colab": {
          "base_uri": "https://localhost:8080/"
        },
        "id": "HDf_Vk9JrQPt",
        "outputId": "ff31408a-010a-4e21-9c9e-6ecdedb984c0"
      },
      "execution_count": 24,
      "outputs": [
        {
          "output_type": "stream",
          "name": "stdout",
          "text": [
            "Longitud: 6\n",
            "| 22 | <-- | 23 | <-- | 4 | <-- | 45 | <-- | 10 | <-- | 34 | <-- \n",
            "Elemento extraido: 22\n",
            "| 23 | <-- | 4 | <-- | 45 | <-- | 10 | <-- | 34 | <-- \n",
            "------- Pila 2 -------\n",
            "| 22 | <-- | 23 | <-- | 4 | <-- | 45 | <-- | 10 | <-- | 34 | <-- \n",
            "----- Pila 3 -----\n",
            "| 22 | <-- | 23 | <-- | 4 | <-- | 45 | <-- | 10 | <-- | 34 | <-- \n"
          ]
        }
      ]
    },
    {
      "cell_type": "code",
      "source": [
        "# Colas de prioridad acotada\n",
        "\n",
        "class ColaPrioridadAcotada:\n",
        "  def __init__(self, niveles):\n",
        "    self.__data = [ QueueADT() for x in range(niveles) ]\n",
        "    self.length = 0 # el numero de elementos encolados\n",
        "\n",
        "  def is_empty(self):\n",
        "    return self.length == 0\n",
        "\n",
        "  def length_cola(self):\n",
        "    return self.length\n",
        "\n",
        "  def enqueue(self, prioridad, elem):\n",
        "    if prioridad >= 0 and prioridad < len(self.__data):\n",
        "      self.__data[prioridad].enqueue(elem)\n",
        "      self.length += 1\n",
        "\n",
        "  def to_string(self):\n",
        "    for p in range(len(self.__data)):\n",
        "      print(f\"Priodidad {p} = \", end=\"\")\n",
        "      self.__data[p].to_string()\n",
        "\n",
        "  def dequeue(self):\n",
        "    for nivel in self.__data:\n",
        "      if not nivel.is_empty():\n",
        "        self.length -= 1\n",
        "        return nivel.dequeue()"
      ],
      "metadata": {
        "id": "4mCikH4FuSHn"
      },
      "execution_count": 42,
      "outputs": []
    },
    {
      "cell_type": "code",
      "source": [
        "cpa = ColaPrioridadAcotada(7)\n",
        "cpa.enqueue(4,'A')\n",
        "cpa.enqueue(2,'Z')\n",
        "cpa.enqueue(4,'N')\n",
        "cpa.enqueue(1,'P')\n",
        "cpa.enqueue(0,25)\n",
        "cpa.to_string()\n",
        "print('Elementos cola:',cpa.length_cola())\n",
        "print('----- Sacando elementos -------')\n",
        "elemento_cpa = cpa.dequeue()\n",
        "print(elemento_cpa)\n",
        "cpa.to_string()\n",
        "print('Elementos cola:',cpa.length_cola())"
      ],
      "metadata": {
        "colab": {
          "base_uri": "https://localhost:8080/"
        },
        "id": "fAsoJlU4vwj6",
        "outputId": "f21634d0-3da8-4bce-d118-8121330022dc"
      },
      "execution_count": 46,
      "outputs": [
        {
          "output_type": "stream",
          "name": "stdout",
          "text": [
            "Priodidad 0 = | 25 | <-- \n",
            "Priodidad 1 = | P | <-- \n",
            "Priodidad 2 = | Z | <-- \n",
            "Priodidad 3 = \n",
            "Priodidad 4 = | A | <-- | N | <-- \n",
            "Priodidad 5 = \n",
            "Priodidad 6 = \n",
            "Elementos cola: 5\n",
            "----- Sacando elementos -------\n",
            "25\n",
            "Priodidad 0 = \n",
            "Priodidad 1 = | P | <-- \n",
            "Priodidad 2 = | Z | <-- \n",
            "Priodidad 3 = \n",
            "Priodidad 4 = | A | <-- | N | <-- \n",
            "Priodidad 5 = \n",
            "Priodidad 6 = \n",
            "Elementos cola: 4\n"
          ]
        }
      ]
    },
    {
      "cell_type": "code",
      "source": [
        "# Cola de prioridad no acotada\n",
        "\n",
        "class ColaDePrioridad:\n",
        "  def __init__(self):\n",
        "    self.__data = []\n",
        "    self.__length = 0\n",
        "\n",
        "  def is_empty(self):\n",
        "    return self.__length == 0\n",
        "\n",
        "  def length(self):\n",
        "    return self.__length\n",
        "\n",
        "  # Utilizar la funcion insert del tipo de dato list de python \n",
        "  # para mantener ordenado los niveles de prioridad\n",
        "  def enqueue(self, prioridad, elem):\n",
        "    existe = False\n",
        "    indice = 0\n",
        "    insertado = False\n",
        "    aux = 0\n",
        "    for index in range(len(self.__data)):\n",
        "      if self.__data[index][\"p\"] == prioridad:\n",
        "        existe = True\n",
        "        indice = index\n",
        "        break\n",
        "    if existe:\n",
        "      self.__data[indice][\"cola\"].enqueue(elem)\n",
        "    else:\n",
        "      if len(self.__data) == 0:               # ningun elemento\n",
        "        self.__data.append( {\"p\":prioridad, \"cola\": QueueADT()} )\n",
        "        self.__data[-1][\"cola\"].enqueue(elem)\n",
        "        self.__length += 1\n",
        "      elif prioridad < self.__data[0][\"p\"]:   # insertando al principio\n",
        "        self.__data.insert(0, {\"p\":prioridad, \"cola\": QueueADT()} )\n",
        "        self.__data[0][\"cola\"].enqueue(elem)\n",
        "        self.__length += 1\n",
        "      elif prioridad > self.__data[-1][\"p\"]:  # insertando al final\n",
        "        self.__data.append( {\"p\":prioridad, \"cola\": QueueADT()} )\n",
        "        self.__data[-1][\"cola\"].enqueue(elem)\n",
        "        self.__length += 1\n",
        "      else:                                  # insertando en medio\n",
        "        while not insertado:\n",
        "          if prioridad > self.__data[aux][\"p\"] and prioridad < self.__data[aux+1][\"p\"]:\n",
        "            self.__data.insert(aux+1, {\"p\":prioridad, \"cola\": QueueADT()} )\n",
        "            self.__data[aux+1][\"cola\"].enqueue(elem)\n",
        "            self.__length += 1\n",
        "            insertado = True\n",
        "          else:\n",
        "            aux += 1\n",
        "  \n",
        "  def dequeue(self):\n",
        "    for nivel in self.__data:\n",
        "      if not nivel[\"cola\"].is_empty():\n",
        "        self.__length = len(self.__data)\n",
        "        return nivel[\"cola\"].dequeue()\n",
        "\n",
        "  def to_string(self):\n",
        "    for level in self.__data:\n",
        "      print(level[\"p\"], end=\" = \")\n",
        "      level[\"cola\"].to_string()"
      ],
      "metadata": {
        "id": "JMRX6KJEx-D2"
      },
      "execution_count": 47,
      "outputs": []
    },
    {
      "cell_type": "code",
      "source": [
        "cp = ColaDePrioridad()\n",
        "cp.enqueue(2,\"A\")\n",
        "cp.enqueue(4,\"Z\")\n",
        "cp.enqueue(1,\"R\")\n",
        "cp.enqueue(2,\"B\")\n",
        "cp.enqueue(4,\"Y\")\n",
        "cp.enqueue(3,\"R\")\n",
        "cp.enqueue(5,\"T\")\n",
        "cp.enqueue(0,\"P\")\n",
        "cp.enqueue(3,\"L\")\n",
        "cp.to_string()\n",
        "cp.to_string()\n",
        "print(\"--------------\")\n",
        "siguiente = cp.dequeue()\n",
        "cp.to_string()\n",
        "print(\"--------------\")\n",
        "siguiente = cp.dequeue()\n",
        "cp.to_string()\n",
        "print(\"--------------\")\n",
        "siguiente = cp.dequeue()\n",
        "cp.to_string()"
      ],
      "metadata": {
        "colab": {
          "base_uri": "https://localhost:8080/"
        },
        "id": "6n7gbdGM7ed1",
        "outputId": "f126486a-6beb-49d6-bfea-fe2bd8fa78a8"
      },
      "execution_count": 51,
      "outputs": [
        {
          "output_type": "stream",
          "name": "stdout",
          "text": [
            "0 = | P | <-- \n",
            "1 = | R | <-- \n",
            "2 = | A | <-- | B | <-- \n",
            "3 = | R | <-- | L | <-- \n",
            "4 = | Z | <-- | Y | <-- \n",
            "5 = | T | <-- \n",
            "0 = | P | <-- \n",
            "1 = | R | <-- \n",
            "2 = | A | <-- | B | <-- \n",
            "3 = | R | <-- | L | <-- \n",
            "4 = | Z | <-- | Y | <-- \n",
            "5 = | T | <-- \n",
            "--------------\n",
            "0 = \n",
            "1 = | R | <-- \n",
            "2 = | A | <-- | B | <-- \n",
            "3 = | R | <-- | L | <-- \n",
            "4 = | Z | <-- | Y | <-- \n",
            "5 = | T | <-- \n",
            "--------------\n",
            "0 = \n",
            "1 = \n",
            "2 = | A | <-- | B | <-- \n",
            "3 = | R | <-- | L | <-- \n",
            "4 = | Z | <-- | Y | <-- \n",
            "5 = | T | <-- \n",
            "--------------\n",
            "0 = \n",
            "1 = \n",
            "2 = | B | <-- \n",
            "3 = | R | <-- | L | <-- \n",
            "4 = | Z | <-- | Y | <-- \n",
            "5 = | T | <-- \n"
          ]
        }
      ]
    },
    {
      "cell_type": "markdown",
      "source": [
        "### Árboles"
      ],
      "metadata": {
        "id": "7XgUenioL2Ui"
      }
    },
    {
      "cell_type": "code",
      "source": [
        "# nodo binario\n",
        "\n",
        "class BinaryNode:\n",
        "  def __init__(self, value, left=None, rigth=None):\n",
        "    self.data = value\n",
        "    self.left = left\n",
        "    self.rigth = rigth"
      ],
      "metadata": {
        "id": "zCuAZi2PL9JG"
      },
      "execution_count": 53,
      "outputs": []
    },
    {
      "cell_type": "code",
      "source": [
        "root_binary = BinaryNode('R','C','H')\n",
        "print(root_binary.data, root_binary.left, root_binary.rigth)"
      ],
      "metadata": {
        "colab": {
          "base_uri": "https://localhost:8080/"
        },
        "id": "NVPvjHEsRidS",
        "outputId": "013e6025-01b0-4ef0-ea2a-3ee5c8cedd2c"
      },
      "execution_count": 57,
      "outputs": [
        {
          "output_type": "stream",
          "name": "stdout",
          "text": [
            "R C H\n"
          ]
        }
      ]
    },
    {
      "cell_type": "code",
      "source": [
        "# ternay node\n",
        "\n",
        "class TernaryNode:\n",
        "  def __init__(self, value, left=None, center=None, rigth=None):\n",
        "    self.data = value\n",
        "    self.left = left\n",
        "    self.center = center\n",
        "    self.rigth = rigth"
      ],
      "metadata": {
        "id": "Kq_MaaHGSjwR"
      },
      "execution_count": 61,
      "outputs": []
    },
    {
      "cell_type": "code",
      "source": [
        "root_ternary = TernaryNode(4, TernaryNode(3, TernaryNode(5, TernaryNode(2)),TernaryNode(5),TernaryNode(2)), None, TernaryNode(5))\n",
        "print(root_ternary.left.left.left.data)"
      ],
      "metadata": {
        "colab": {
          "base_uri": "https://localhost:8080/"
        },
        "id": "n_TnMqImSo9A",
        "outputId": "5733c71b-45e7-43ef-e5f9-88867d67faad"
      },
      "execution_count": 62,
      "outputs": [
        {
          "output_type": "stream",
          "name": "stdout",
          "text": [
            "2\n"
          ]
        }
      ]
    },
    {
      "cell_type": "code",
      "source": [
        "# Árbol binario de busqueda\n",
        "\n",
        "class BinaryNode:\n",
        "  def __init__(self, value, left=None, rigth=None):\n",
        "    self.data = value\n",
        "    self.left = left\n",
        "    self.rigth = rigth\n",
        "\n",
        "class BinarySearchTree:\n",
        "  def __init__(self):\n",
        "    self.root = None\n",
        "    \n",
        "  def insert(self, value):\n",
        "    if self.root == None:\n",
        "      self.root = BinaryNode(value)\n",
        "    else:\n",
        "      self.__insert_nodo(self.root, value)\n",
        "\n",
        "  def __insert_nodo(self, nodo, value):\n",
        "    if nodo.data == value:\n",
        "      pass\n",
        "    elif value < nodo.data:  # Ir a la izquierda\n",
        "      if nodo.left == None:\n",
        "        nodo.left = BinaryNode(value)\n",
        "      else:\n",
        "        self.__insert_nodo(nodo.left, value)\n",
        "    else:                    # Ir a la derecha\n",
        "      if nodo.rigth == None:\n",
        "        nodo.rigth = BinaryNode(value)\n",
        "      else:\n",
        "        self.__insert_nodo(nodo.rigth, value)\n",
        "\n",
        "  def transversal(self, formato = \"posorden\"):\n",
        "    if formato == \"posorden\":\n",
        "      self.recorrido_pos(self.root)\n",
        "    elif formato == \"preorden\":\n",
        "      self.recorrido_pre(self.root)\n",
        "    else: #inorden\n",
        "      self.recorrido_in(self.root)\n",
        "    print()\n",
        "  \n",
        "  def recorrido_pos(self, nodo):\n",
        "    if nodo != None:\n",
        "      self.recorrido_pos(nodo.left)\n",
        "      self.recorrido_pos(nodo.rigth)\n",
        "      print(str(nodo.data), end=\" , \")\n",
        "\n",
        "  def recorrido_pre(self, nodo):\n",
        "    if nodo != None:\n",
        "      print(str(nodo.data), end=\" , \")\n",
        "      self.recorrido_pre(nodo.left)\n",
        "      self.recorrido_pre(nodo.rigth)\n",
        "\n",
        "  def recorrido_in(self, nodo):\n",
        "    if nodo != None:\n",
        "      self.recorrido_in(nodo.left)\n",
        "      print(str(nodo.data), end=\" , \")\n",
        "      self.recorrido_in(nodo.rigth)\n",
        "\n",
        "  def search(self, value):\n",
        "    if self.root == None:\n",
        "      print(\"El árbol está vacío\")\n",
        "      return None\n",
        "    else:\n",
        "      return self.__search(self.root, value)\n",
        "\n",
        "  def __search(self, nodo, value):\n",
        "    if nodo == None:\n",
        "      print(\"El dato no existe en el árbol\")\n",
        "      return None\n",
        "    elif nodo.data == value:\n",
        "      print(\"Encontrado\", nodo.data)\n",
        "      return nodo\n",
        "    elif value < nodo.data:\n",
        "      return self.__search(nodo.left, value)\n",
        "    else:\n",
        "      return self.__search(nodo.rigth, value)\n",
        "\n",
        "  def remove(self, value):\n",
        "    nodo = self.search(value)\n",
        "    if nodo != None:\n",
        "      if (nodo.left == None) and (nodo.rigth == None):  # No tiene hijos\n",
        "        self.__borrar_cero_hijos(self.root, value)\n",
        "      elif (nodo.left != None) and (nodo.rigth != None):  # Tiene ambos hijos\n",
        "        self.encontrado = False\n",
        "        self.__borrar_ambos_hijos(self.root, value)   # --> Encontrando hijo mayor\n",
        "        nodo.data = self.__aux\n",
        "      elif (nodo.left != None) or (nodo.rigth != None):  # Tiene un hijo\n",
        "        self.__borrar_un_hijo(self.root, value)\n",
        "\n",
        "  def __borrar_cero_hijos(self, nodo, value):\n",
        "    if nodo.data == value: # Si el valor es la raiz\n",
        "      nodo = None\n",
        "    elif value < nodo.data:  # Buscar a la izquierda\n",
        "      if nodo.left.data == value:\n",
        "        nodo.left = None\n",
        "      else:\n",
        "        self.__borrar_cero_hijos(nodo.left, value)\n",
        "    else:                    # Buscar a la derecha\n",
        "      if nodo.rigth.data == value:\n",
        "        nodo.rigth = None\n",
        "      else:\n",
        "        self.__borrar_cero_hijos(nodo.rigth, value)\n",
        "\n",
        "  def __borrar_un_hijo(self, nodo, value):\n",
        "    if nodo.data == value: # Si el valor es la raiz\n",
        "      if nodo.left != None:\n",
        "        nodo = nodo.left\n",
        "      elif nodo.rigth != None:\n",
        "        nodo = nodo.rigth\n",
        "    elif value < nodo.data:  # Buscar a la izquierda\n",
        "      if nodo.left.data == value:\n",
        "        if nodo.left.left != None:\n",
        "          nodo.left = nodo.left.left\n",
        "        elif nodo.left.rigth != None:\n",
        "          nodo.left = nodo.left.rigth\n",
        "      else:\n",
        "        self.__borrar_un_hijo(nodo.left, value)\n",
        "    else:                    # Buscar a la derecha\n",
        "      if nodo.rigth.data == value:\n",
        "        if nodo.rigth.left != None:\n",
        "          nodo.rigth = nodo.rigth.left\n",
        "        elif nodo.rigth.rigth != None:\n",
        "          nodo.rigth = nodo.rigth.rigth\n",
        "      else:\n",
        "        self.__borrar_un_hijo(nodo.rigth, value)\n",
        "\n",
        "  def __borrar_ambos_hijos(self, nodo, value):\n",
        "    if (nodo.data == value) and (self.encontrado == False):\n",
        "      self.encontrado = True\n",
        "      self.__borrar_ambos_hijos(nodo.left, value)\n",
        "    elif self.encontrado == True:\n",
        "      if nodo.rigth.rigth == None:\n",
        "        self.__aux = nodo.rigth.data\n",
        "        nodo.rigth = None\n",
        "      else:\n",
        "        self.__borrar_ambos_hijos(nodo.rigth, value)\n",
        "    elif value < nodo.data:\n",
        "        self.__borrar_ambos_hijos(nodo.left, value)\n",
        "    else:\n",
        "      self.__borrar_ambos_hijos(nodo.rigth, value)"
      ],
      "metadata": {
        "id": "zXxbcGKcUcuA"
      },
      "execution_count": 66,
      "outputs": []
    },
    {
      "cell_type": "code",
      "source": [
        "arb1 = BinarySearchTree()\n",
        "arb1.insert(60)\n",
        "arb1.insert(30)\n",
        "arb1.insert(15)\n",
        "arb1.insert(40)\n",
        "arb1.insert(80)\n",
        "arb1.insert(70)\n",
        "arb1.insert(75)\n",
        "arb1.insert(85)\n",
        "arb1.insert(81)\n",
        "arb1.insert(45)\n",
        "arb1.transversal('posorden')\n",
        "arb1.transversal('preorden')\n",
        "arb1.transversal('inorden')\n",
        "print('---- Eliminando nodo sin hijos ----')\n",
        "arb1.remove(15)\n",
        "arb1.transversal('posorden')\n",
        "print('---- Eliminando nodo con un hijo ----')\n",
        "arb1.remove(85)\n",
        "arb1.transversal('posorden')\n",
        "print('---- Eliminando nodo con ambos hijos ----')\n",
        "arb1.remove(60)\n",
        "arb1.transversal('posorden')"
      ],
      "metadata": {
        "colab": {
          "base_uri": "https://localhost:8080/"
        },
        "id": "-IJlRpMOUltK",
        "outputId": "dbcc0e8a-d3a2-424d-d954-27b7df3b6786"
      },
      "execution_count": 68,
      "outputs": [
        {
          "output_type": "stream",
          "name": "stdout",
          "text": [
            "15 , 45 , 40 , 30 , 75 , 70 , 81 , 85 , 80 , 60 , \n",
            "60 , 30 , 15 , 40 , 45 , 80 , 70 , 75 , 85 , 81 , \n",
            "15 , 30 , 40 , 45 , 60 , 70 , 75 , 80 , 81 , 85 , \n",
            "---- Eliminando nodo sin hijos ----\n",
            "Encontrado 15\n",
            "45 , 40 , 30 , 75 , 70 , 81 , 85 , 80 , 60 , \n",
            "---- Eliminando nodo con un hijo ----\n",
            "Encontrado 85\n",
            "45 , 40 , 30 , 75 , 70 , 81 , 80 , 60 , \n",
            "---- Eliminando nodo con ambos hijos ----\n",
            "Encontrado 60\n",
            "40 , 30 , 75 , 70 , 81 , 80 , 45 , \n"
          ]
        }
      ]
    },
    {
      "cell_type": "markdown",
      "source": [
        "### Grafos"
      ],
      "metadata": {
        "id": "OVPT56uBZwkj"
      }
    },
    {
      "cell_type": "code",
      "source": [
        "# Grafos\n",
        "\n",
        "grafo = {}\n",
        "grafo[\"A\"] = [\"B\", \"C\", \"D\"]\n",
        "grafo['B'] = ['A', 'D']\n",
        "grafo['C'] = ['A', 'D', 'E']\n",
        "grafo['D'] = ['A', 'B', 'C']\n",
        "grafo['E'] = ['C']\n",
        "\n",
        "print(grafo)\n",
        "\n",
        "vertices = list(grafo.keys())\n",
        "print(vertices)\n",
        "\n",
        "# Calcular el tamaño de la matriz\n",
        "longitud = len(vertices)\n",
        "\n",
        "matriz_ady = [[0 for j in range(longitud)]for i in range(longitud)]\n",
        "for renglon in matriz_ady:\n",
        "  print(renglon)\n",
        "\n",
        "print(\"Construir la lista de adyacencia a partir del dict\")\n",
        "lista_ady = []\n",
        "for key in vertices:\n",
        "  for vecino in grafo[key]:\n",
        "    lista_ady.append( (key, vecino) )\n",
        "print(lista_ady)\n",
        "print(\"Llenar la matriz de ady.\")\n",
        "\n",
        "index1_v = 0  # ---> renglon\n",
        "index2_v = 0  # ---> columnas\n",
        "for par in lista_ady:\n",
        "  index1_v = vertices.index(par[0])\n",
        "  index2_v = vertices.index(par[1])\n",
        "  matriz_ady[index1_v][index2_v] = 1\n",
        "\n",
        "print(\"Matriz de adyacencia\")\n",
        "for renglon in matriz_ady:\n",
        "  print(renglon)"
      ],
      "metadata": {
        "colab": {
          "base_uri": "https://localhost:8080/"
        },
        "id": "pau-fHjyZzVX",
        "outputId": "c0e2f04d-3773-4b37-854e-bf3317e930cb"
      },
      "execution_count": 78,
      "outputs": [
        {
          "output_type": "stream",
          "name": "stdout",
          "text": [
            "{'A': ['B', 'C', 'D'], 'B': ['A', 'D'], 'C': ['A', 'D', 'E'], 'D': ['A', 'B', 'C'], 'E': ['C']}\n",
            "['A', 'B', 'C', 'D', 'E']\n",
            "[0, 0, 0, 0, 0]\n",
            "[0, 0, 0, 0, 0]\n",
            "[0, 0, 0, 0, 0]\n",
            "[0, 0, 0, 0, 0]\n",
            "[0, 0, 0, 0, 0]\n",
            "Construir la lista de adyacencia a partir del dict\n",
            "[('A', 'B'), ('A', 'C'), ('A', 'D'), ('B', 'A'), ('B', 'D'), ('C', 'A'), ('C', 'D'), ('C', 'E'), ('D', 'A'), ('D', 'B'), ('D', 'C'), ('E', 'C')]\n",
            "Llenar la matriz de ady.\n",
            "Matriz de adyacencia\n",
            "[0, 1, 1, 1, 0]\n",
            "[1, 0, 0, 1, 0]\n",
            "[1, 0, 0, 1, 1]\n",
            "[1, 1, 1, 0, 0]\n",
            "[0, 0, 1, 0, 0]\n"
          ]
        }
      ]
    }
  ]
}