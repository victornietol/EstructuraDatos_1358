{
  "nbformat": 4,
  "nbformat_minor": 0,
  "metadata": {
    "colab": {
      "name": "ADT_Array(Actualizado).ipynb",
      "provenance": [],
      "authorship_tag": "ABX9TyPrYj23BpKX0fqNcrEe4Gs7",
      "include_colab_link": true
    },
    "kernelspec": {
      "name": "python3",
      "display_name": "Python 3"
    },
    "language_info": {
      "name": "python"
    }
  },
  "cells": [
    {
      "cell_type": "markdown",
      "metadata": {
        "id": "view-in-github",
        "colab_type": "text"
      },
      "source": [
        "<a href=\"https://colab.research.google.com/github/victornietol/EstructuraDatos_1358/blob/master/ADT_Array(Actualizado).ipynb\" target=\"_parent\"><img src=\"https://colab.research.google.com/assets/colab-badge.svg\" alt=\"Open In Colab\"/></a>"
      ]
    },
    {
      "cell_type": "code",
      "metadata": {
        "id": "Qw-5KXbhIOhy"
      },
      "source": [
        "\"\"\"\n",
        "ADT Array.\n",
        "Es una estructura de datos estatico lineal\n",
        "\"\"\"\n",
        "\n",
        "class Array():\n",
        "  def __init__(self , tamano):\n",
        "    self.__tamano = tamano\n",
        "    self.__data = [0 for x in range(self.__tamano)]\n",
        "\n",
        "  def get_item(self , index):\n",
        "    return self.__data[index]\n",
        "\n",
        "  def to_string(self):\n",
        "    print(self.__data)\n",
        "\n",
        "  def set_item(self , index2 , dato):\n",
        "    self.__dato = dato\n",
        "    self.__data[index2] = dato\n",
        "  \n",
        "  def get_length(self):\n",
        "    return len(self.__data)\n",
        "  \n",
        "  def clear(self , datoE):\n",
        "    self.__data = [datoE for x in self.__data]"
      ],
      "execution_count": null,
      "outputs": []
    },
    {
      "cell_type": "code",
      "metadata": {
        "colab": {
          "base_uri": "https://localhost:8080/"
        },
        "id": "jwWCYa0jL-dz",
        "outputId": "bebbecc6-2c95-4513-c1d1-efb71b29446d"
      },
      "source": [
        "#Prueba de métodos\n",
        "\n",
        "ejemplo = Array(5)\n",
        "ejemplo.to_string()\n",
        "print(f\"El elemento obtenido es: {ejemplo.get_item(2)}\")\n",
        "ejemplo.set_item(2,1358)\n",
        "ejemplo.set_item(1,\"hola\")\n",
        "print(f\"el tamaño es: {ejemplo.get_length()}\")\n",
        "ejemplo.to_string()\n",
        "ejemplo.clear(\"Nuevo dato\")\n",
        "ejemplo.to_string()"
      ],
      "execution_count": null,
      "outputs": [
        {
          "output_type": "stream",
          "name": "stdout",
          "text": [
            "[0, 0, 0, 0, 0]\n",
            "El elemento obtenido es: 0\n",
            "el tamaño es: 5\n",
            "[0, 'hola', 1358, 0, 0]\n",
            "['Nuevo dato', 'Nuevo dato', 'Nuevo dato', 'Nuevo dato', 'Nuevo dato']\n"
          ]
        }
      ]
    },
    {
      "cell_type": "code",
      "metadata": {
        "colab": {
          "base_uri": "https://localhost:8080/"
        },
        "id": "qtCr6fR5RNvP",
        "outputId": "1f108c79-e065-4755-d815-119e891e27b0"
      },
      "source": [
        "#Asignando valores\n",
        "\n",
        "lista = Array(10)\n",
        "\n",
        "lista.set_item(0,33)\n",
        "lista.set_item(1,3)\n",
        "lista.set_item(2,88)\n",
        "lista.set_item(3,42)\n",
        "lista.set_item(4,12)\n",
        "lista.set_item(5,28)\n",
        "lista.set_item(6,14)\n",
        "lista.set_item(7,100)\n",
        "lista.set_item(8,1)\n",
        "lista.set_item(9,60)\n",
        "\n",
        "for indice in range(lista.get_length()):\n",
        "  print(lista.get_item(indice))\n",
        "\n",
        "#lista.clear(-1)\n",
        "\n",
        "for indice in range(lista.get_length()):\n",
        "  print(lista.get_item(indice))"
      ],
      "execution_count": null,
      "outputs": [
        {
          "output_type": "stream",
          "name": "stdout",
          "text": [
            "33\n",
            "3\n",
            "88\n",
            "42\n",
            "12\n",
            "28\n",
            "14\n",
            "100\n",
            "1\n",
            "60\n",
            "33\n",
            "3\n",
            "88\n",
            "42\n",
            "12\n",
            "28\n",
            "14\n",
            "100\n",
            "1\n",
            "60\n"
          ]
        }
      ]
    },
    {
      "cell_type": "code",
      "metadata": {
        "colab": {
          "base_uri": "https://localhost:8080/"
        },
        "id": "vnx6WEeCiBwb",
        "outputId": "740dcf78-89c9-4987-8ed5-41df7ae16e5c"
      },
      "source": [
        "#Búsqueda lineal ejemplo lista anterior\n",
        "\n",
        "valor_a_buscar = int(input(\"¿Que valor quieres buscar?: \"))\n",
        "encontrado = False\n",
        "for indice in range( lista.get_length() ):\n",
        "  if valor_a_buscar == lista.get_item(indice):\n",
        "    print(f\"El elemento se encuentra en la posición: {indice}\")\n",
        "    encontrado = True\n",
        "    break\n",
        "\n",
        "if encontrado:\n",
        "  print(\"El elemento si existe en el arreglo\")\n",
        "else:\n",
        "  print(\"El elemnto no esta en el arreglo\")"
      ],
      "execution_count": null,
      "outputs": [
        {
          "output_type": "stream",
          "name": "stdout",
          "text": [
            "¿Que valor quieres buscar?: 444\n",
            "El elemnto no esta en el arreglo\n"
          ]
        }
      ]
    }
  ]
}