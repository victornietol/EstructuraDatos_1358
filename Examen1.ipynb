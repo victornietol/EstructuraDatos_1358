{
  "nbformat": 4,
  "nbformat_minor": 0,
  "metadata": {
    "colab": {
      "name": "Examen1.ipynb",
      "provenance": [],
      "authorship_tag": "ABX9TyNmnJxccv3Ocxn/KBuDCfan",
      "include_colab_link": true
    },
    "kernelspec": {
      "name": "python3",
      "display_name": "Python 3"
    },
    "language_info": {
      "name": "python"
    }
  },
  "cells": [
    {
      "cell_type": "markdown",
      "metadata": {
        "id": "view-in-github",
        "colab_type": "text"
      },
      "source": [
        "<a href=\"https://colab.research.google.com/github/victornietol/EstructuraDatos_1358/blob/master/Examen1.ipynb\" target=\"_parent\"><img src=\"https://colab.research.google.com/assets/colab-badge.svg\" alt=\"Open In Colab\"/></a>"
      ]
    },
    {
      "cell_type": "code",
      "metadata": {
        "id": "shWSt_sZj-0K"
      },
      "source": [
        "class Nodo:\n",
        "  def __init__(self, value, siguiente = None):\n",
        "    self.data = value\n",
        "    self.next = siguiente\n",
        "\n",
        "class LinkedListADT:\n",
        "  def __init__(self):\n",
        "    self.head = None\n",
        "  \n",
        "  def is_empty(self):\n",
        "    return self.head == None\n",
        "\n",
        "  def get_tail(self):\n",
        "    curr_node = self.head\n",
        "    if self.head != None:\n",
        "      while curr_node.next != None:\n",
        "        curr_node = curr_node.next\n",
        "    return curr_node\n",
        "\n",
        "  def append(self, dato):\n",
        "    if self.is_empty():\n",
        "      self.head = Nodo(dato)\n",
        "    else:\n",
        "      self.get_tail().next = Nodo(dato)\n",
        "\n",
        "  def prepend(self, dato):\n",
        "    if self.is_empty():\n",
        "      self.head = Nodo(dato)\n",
        "    else:\n",
        "      self.head = Nodo(dato,self.head)\n",
        "\n",
        "  def remove(self, dato):\n",
        "    curr_node = self.head\n",
        "    aux = False\n",
        "    self.head = None\n",
        "    while curr_node != None:\n",
        "      if curr_node.data == dato:\n",
        "        aux = True\n",
        "        curr_node = curr_node.next\n",
        "        break   \n",
        " \n",
        "      self.append(curr_node.data)  \n",
        "      curr_node = curr_node.next\n",
        "\n",
        "    while curr_node != None:                 \n",
        "      self.append(curr_node.data)  \n",
        "      curr_node = curr_node.next               \n",
        "\n",
        "    if aux == False:\n",
        "      print(\"Elemento no encontrado\")\n",
        "\n",
        "  def trasnversal(self):\n",
        "    curr_node = self.head\n",
        "    while curr_node != None:\n",
        "      print(curr_node.data, end=\" --> \")\n",
        "      curr_node = curr_node.next\n",
        "    print()\n",
        "   \n",
        "  def pop(self):\n",
        "    curr_node = self.head\n",
        "    self.head = None\n",
        "    while curr_node != None:\n",
        "      if curr_node.next ==  None:\n",
        "        return curr_node         \n",
        "      else:\n",
        "        self.append(curr_node.data)\n",
        "        curr_node = curr_node.next\n",
        "\n",
        "  def pop_first(self):\n",
        "    tmp = self.head             \n",
        "    curr_node = self.head.next\n",
        "    self.head = None\n",
        "    while curr_node != None:\n",
        "      self.append(curr_node.data)\n",
        "      curr_node = curr_node.next\n",
        "    return tmp\n",
        "\n",
        "  def add_after(self, reference_value, dato):\n",
        "    curr_node = self.head\n",
        "    self.head = None\n",
        "    while curr_node != None:\n",
        "      if curr_node.data == reference_value:\n",
        "        self.append(curr_node.data)\n",
        "        self.append(dato)\n",
        "        curr_node = curr_node.next\n",
        "      else:\n",
        "        self.append(curr_node.data)  \n",
        "        curr_node = curr_node.next             "
      ],
      "execution_count": 20,
      "outputs": []
    },
    {
      "cell_type": "code",
      "metadata": {
        "colab": {
          "base_uri": "https://localhost:8080/"
        },
        "id": "dVl-loZZmH_i",
        "outputId": "5d8bf38c-9a43-4dda-ea9d-27eb1a513da8"
      },
      "source": [
        "lista = LinkedListADT()\n",
        "lista.append(50)\n",
        "lista.append(55)\n",
        "lista.append(60)\n",
        "lista.append(65)\n",
        "print(\"------ Lista inicial ------\")\n",
        "lista.trasnversal()\n",
        "print(\"----- Insertando nodo 57 -----\")\n",
        "lista.add_after(55,57)\n",
        "lista.trasnversal()\n",
        "print(\"----- Eliminando nodo 55 -----\")\n",
        "lista.remove(55)\n",
        "lista.trasnversal()"
      ],
      "execution_count": 22,
      "outputs": [
        {
          "output_type": "stream",
          "name": "stdout",
          "text": [
            "------ Lista inicial ------\n",
            "50 --> 55 --> 60 --> 65 --> \n",
            "----- Insertando nodo 57 -----\n",
            "50 --> 55 --> 57 --> 60 --> 65 --> \n",
            "----- Eliminando nodo 55 -----\n",
            "50 --> 57 --> 60 --> 65 --> \n"
          ]
        }
      ]
    }
  ]
}