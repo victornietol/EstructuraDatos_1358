{
  "nbformat": 4,
  "nbformat_minor": 0,
  "metadata": {
    "colab": {
      "name": "JuegoDeLaVida(Tarea5).ipynb",
      "provenance": [],
      "authorship_tag": "ABX9TyMfXGP1OrR/3d0dda4dch0O",
      "include_colab_link": true
    },
    "kernelspec": {
      "name": "python3",
      "display_name": "Python 3"
    },
    "language_info": {
      "name": "python"
    }
  },
  "cells": [
    {
      "cell_type": "markdown",
      "metadata": {
        "id": "view-in-github",
        "colab_type": "text"
      },
      "source": [
        "<a href=\"https://colab.research.google.com/github/victornietol/EstructuraDatos_1358/blob/master/JuegoDeLaVida(Tarea5).ipynb\" target=\"_parent\"><img src=\"https://colab.research.google.com/assets/colab-badge.svg\" alt=\"Open In Colab\"/></a>"
      ]
    },
    {
      "cell_type": "code",
      "metadata": {
        "id": "4lSk4qXlAFFa"
      },
      "source": [
        "class Array2D():\n",
        "  \n",
        "  def __init__(self, ren, col):\n",
        "    self.__columnas = col\n",
        "    self.__renglones = ren\n",
        "    self.__data = [[ 0 for i in range(col)]for i in range (ren)]\n",
        "\n",
        "  def to_string(self):\n",
        "    for i in range(self.__renglones):\n",
        "      print(self.__data[i])\n",
        "\n",
        "  def clear(self, dato):\n",
        "    for i in range (self.__renglones):\n",
        "      for x in range(self.__columnas):\n",
        "        self.__data[i][x] = dato\n",
        "\n",
        "  def get_row_size(self):\n",
        "    return self.__renglones\n",
        "\n",
        "  def get_col_size(self):\n",
        "    return self.__columnas\n",
        "  \n",
        "  def set_item(self,ren,col,dato):\n",
        "    self.__data[ren][col] = dato\n",
        "\n",
        "  def get_item(self,ren,col):\n",
        "    return self.__data[ren][col]"
      ],
      "execution_count": 36,
      "outputs": []
    },
    {
      "cell_type": "code",
      "metadata": {
        "id": "mzi6VDNhANcH"
      },
      "source": [
        "class JuegoDelaVidaADT:\n",
        "  def __init__(self,rens,cols,lista_pob_inicial,generaciones):\n",
        "    self.tablero = Array2D( rens , cols)\n",
        "    self.generaciones = generaciones\n",
        "    self.gen = 1\n",
        "    self.rens = rens\n",
        "    self.cols = cols\n",
        "    self.tablero.clear('M')\n",
        "    for par in lista_pob_inicial:\n",
        "      self.tablero.set_item( par[0] , par[1] , 'V')\n",
        "\n",
        "  def to_string(self):\n",
        "    print(f\"---- GENERACIÓN { self.gen }\")\n",
        "    self.tablero.to_string()\n",
        "\n",
        "  def get_vecinos(self,r,c):\n",
        "    self.vecinos = []\n",
        "    for ren in range(r-1 , r+2 , 1):\n",
        "      for col in range(c-1 , c+2 , 1):\n",
        "        if (ren < 0) or (col < 0) or (ren > self.rens-1) or (col > self.cols-1) or ((ren == r) and (col == c)):\n",
        "          None\n",
        "        else:\n",
        "          self.vecinos.append((ren,col))\n",
        "    return self.vecinos\n",
        "\n",
        "  def get_vecinos_vivos(self,r,c):\n",
        "    self.lista_vivos = []\n",
        "    self.vecinos = self.get_vecinos(r,c)\n",
        "    for par in self.vecinos:\n",
        "      self.lista_vivos.append(self.tablero.get_item( par[0] , par[1]))\n",
        "    self.vecinos_vivos = self.lista_vivos.count('V')\n",
        "    return self.vecinos_vivos"
      ],
      "execution_count": 40,
      "outputs": []
    },
    {
      "cell_type": "code",
      "metadata": {
        "colab": {
          "base_uri": "https://localhost:8080/"
        },
        "id": "egI-_nIIAROz",
        "outputId": "218557ca-4b9c-4074-da67-235c3bbf1e7d"
      },
      "source": [
        "juego = JuegoDelaVidaADT( 6 , 5, [(2,2),(3,1),(3,2),(3,3)] , 5 )\n",
        "juego.to_string()\n",
        "print(juego.tablero.get_item(2,1))\n",
        "print(juego.get_vecinos(2,3))\n",
        "print(juego.get_vecinos_vivos(2,3))"
      ],
      "execution_count": 48,
      "outputs": [
        {
          "output_type": "stream",
          "name": "stdout",
          "text": [
            "---- GENERACIÓN 1\n",
            "['M', 'M', 'M', 'M', 'M']\n",
            "['M', 'M', 'M', 'M', 'M']\n",
            "['M', 'M', 'V', 'M', 'M']\n",
            "['M', 'V', 'V', 'V', 'M']\n",
            "['M', 'M', 'M', 'M', 'M']\n",
            "['M', 'M', 'M', 'M', 'M']\n",
            "M\n",
            "[(1, 2), (1, 3), (1, 4), (2, 2), (2, 4), (3, 2), (3, 3), (3, 4)]\n",
            "3\n"
          ]
        }
      ]
    }
  ]
}