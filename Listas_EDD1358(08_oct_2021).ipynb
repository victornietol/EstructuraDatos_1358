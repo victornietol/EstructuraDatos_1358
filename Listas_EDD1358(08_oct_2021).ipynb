{
  "nbformat": 4,
  "nbformat_minor": 0,
  "metadata": {
    "colab": {
      "name": "Listas_EDD1358(08_oct_2021).ipynb",
      "provenance": [],
      "authorship_tag": "ABX9TyP464cmytCobj/GwfS1ZFLV",
      "include_colab_link": true
    },
    "kernelspec": {
      "name": "python3",
      "display_name": "Python 3"
    },
    "language_info": {
      "name": "python"
    }
  },
  "cells": [
    {
      "cell_type": "markdown",
      "metadata": {
        "id": "view-in-github",
        "colab_type": "text"
      },
      "source": [
        "<a href=\"https://colab.research.google.com/github/victornietol/EstructuraDatos_1358/blob/master/Listas_EDD1358(08_oct_2021).ipynb\" target=\"_parent\"><img src=\"https://colab.research.google.com/assets/colab-badge.svg\" alt=\"Open In Colab\"/></a>"
      ]
    },
    {
      "cell_type": "code",
      "metadata": {
        "id": "5cPIi1QbR_Qp"
      },
      "source": [
        "class Nodo:\n",
        "  def __init__(self, value, siguiente = None):\n",
        "    self.data = value\n",
        "    self.next = siguiente"
      ],
      "execution_count": 1,
      "outputs": []
    },
    {
      "cell_type": "code",
      "metadata": {
        "colab": {
          "base_uri": "https://localhost:8080/"
        },
        "id": "yrknTltdTiAr",
        "outputId": "48090d97-5035-4e43-839d-25864ed3971e"
      },
      "source": [
        "head = Nodo(30)\n",
        "print(head.data)\n",
        "print(head.next)\n",
        "\n"
      ],
      "execution_count": 2,
      "outputs": [
        {
          "output_type": "stream",
          "name": "stdout",
          "text": [
            "30\n",
            "None\n"
          ]
        }
      ]
    },
    {
      "cell_type": "code",
      "metadata": {
        "colab": {
          "base_uri": "https://localhost:8080/"
        },
        "id": "fPGTyq5CVWcL",
        "outputId": "218eadcb-048b-42ad-d382-b6a6381265e2"
      },
      "source": [
        "punto_entrada = Nodo(20)\n",
        "punto_entrada.next = Nodo(15)\n",
        "\n",
        "print(punto_entrada.data)\n",
        "#print(punto_entrada.next)\n",
        "print(punto_entrada.next.data)\n",
        "#print(punto_entrada.next.next)\n",
        "print(\"Hacer los mismo pero con el segundo metodo\")\n",
        "\n",
        "punto_entrada = Nodo(20, Nodo(15))\n",
        "\n",
        "print(punto_entrada.data)\n",
        "print(punto_entrada.next.data)"
      ],
      "execution_count": 3,
      "outputs": [
        {
          "output_type": "stream",
          "name": "stdout",
          "text": [
            "20\n",
            "15\n",
            "Hacer los mismo pero con el segundo metodo\n",
            "20\n",
            "15\n"
          ]
        }
      ]
    },
    {
      "cell_type": "code",
      "metadata": {
        "colab": {
          "base_uri": "https://localhost:8080/"
        },
        "id": "Q-Ai1Ku9e7SS",
        "outputId": "0925f082-abb7-4d47-919d-5202efe62063"
      },
      "source": [
        "head3 = Nodo(10, Nodo(20, Nodo(30)))\n",
        "print(head3.next.next.data)\n",
        "\n",
        "head4 = Nodo(5, Nodo(6, Nodo(7, Nodo(8, Nodo(9)))))\n",
        "print(head4.next.next.data)"
      ],
      "execution_count": 7,
      "outputs": [
        {
          "output_type": "stream",
          "name": "stdout",
          "text": [
            "30\n",
            "7\n"
          ]
        }
      ]
    },
    {
      "cell_type": "markdown",
      "metadata": {
        "id": "ElYR8dG5gjbV"
      },
      "source": [
        "# Como recorrer una lista ligada dinamicamente"
      ]
    },
    {
      "cell_type": "code",
      "metadata": {
        "colab": {
          "base_uri": "https://localhost:8080/"
        },
        "id": "A5D_ZoVJgoRW",
        "outputId": "2195fc78-b374-4bf5-8807-dc06ff83b05a"
      },
      "source": [
        "head4 = Nodo(5, Nodo(6, Nodo(7, Nodo(8, Nodo(9)))))\n",
        "\n",
        "curr_node = head4\n",
        "\n",
        "#Para recorrer\n",
        "while curr_node != None:\n",
        "  print(curr_node.data)\n",
        "  curr_node = curr_node.next\n",
        "\n",
        "print(\"AGREGAR 10 AL FINAL\")\n",
        "curr_node = head4\n",
        "while curr_node.next != None:\n",
        "  curr_node = curr_node.next\n",
        "curr_node.next = Nodo(10)\n",
        "\n",
        "curr_node = head4\n",
        "while curr_node != None:\n",
        "  print(curr_node.data)\n",
        "  curr_node = curr_node.next"
      ],
      "execution_count": 14,
      "outputs": [
        {
          "output_type": "stream",
          "name": "stdout",
          "text": [
            "5\n",
            "6\n",
            "7\n",
            "8\n",
            "9\n",
            "AGREGAR 10 AL FINAL\n",
            "5\n",
            "6\n",
            "7\n",
            "8\n",
            "9\n",
            "10\n"
          ]
        }
      ]
    },
    {
      "cell_type": "code",
      "metadata": {
        "colab": {
          "base_uri": "https://localhost:8080/"
        },
        "id": "np1ijx1ilmM6",
        "outputId": "eda5ee8b-f6e0-40d8-cbc3-93063903315e"
      },
      "source": [
        "class Nodo:\n",
        "  def __init__(self, value, siguiente = None):\n",
        "    self.data = value\n",
        "    self.next = siguiente\n",
        "\n",
        "class LinkedListADT:\n",
        "  def __init__(self):\n",
        "    self.head = None\n",
        "  \n",
        "  def is_empty(self):\n",
        "    return self.head == None\n",
        "\n",
        "  def get_tail(self):\n",
        "    curr_node = self.head\n",
        "    if self.head != None:\n",
        "      while curr_node.next != None:\n",
        "        curr_node = curr_node.next\n",
        "    return curr_node\n",
        "\n",
        "  def append(self, dato):\n",
        "    if self.is_empty():\n",
        "      self.head = Nodo(dato)\n",
        "    else:\n",
        "      self.get_tail().next = Nodo(dato)\n",
        "\n",
        "  def trasnversal(self):\n",
        "    curr_node = self.head\n",
        "    while curr_node != None:\n",
        "      print(curr_node.data, end=\" --> \")\n",
        "      curr_node = curr_node.next\n",
        "\n",
        "def main():\n",
        "  lsl = LinkedListADT()\n",
        "  print(lsl.is_empty())\n",
        "  nodo = lsl.get_tail()\n",
        "  print(nodo) # None\n",
        "  lsl.append(10)\n",
        "  lsl.append(20)\n",
        "  lsl.trasnversal()\n",
        "\n",
        "main()"
      ],
      "execution_count": 17,
      "outputs": [
        {
          "output_type": "stream",
          "name": "stdout",
          "text": [
            "True\n",
            "None\n",
            "10 --> 20 --> "
          ]
        }
      ]
    }
  ]
}