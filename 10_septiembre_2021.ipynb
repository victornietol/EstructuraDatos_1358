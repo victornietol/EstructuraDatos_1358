{
  "nbformat": 4,
  "nbformat_minor": 0,
  "metadata": {
    "colab": {
      "name": "10_septiembre_2021.ipynb",
      "provenance": [],
      "authorship_tag": "ABX9TyOoHokGEGfni/0cLGeLL+GH",
      "include_colab_link": true
    },
    "kernelspec": {
      "display_name": "Python 3",
      "name": "python3"
    },
    "language_info": {
      "name": "python"
    }
  },
  "cells": [
    {
      "cell_type": "markdown",
      "metadata": {
        "id": "view-in-github",
        "colab_type": "text"
      },
      "source": [
        "<a href=\"https://colab.research.google.com/github/victornietol/EstructuraDatos_1358/blob/master/10_septiembre_2021.ipynb\" target=\"_parent\"><img src=\"https://colab.research.google.com/assets/colab-badge.svg\" alt=\"Open In Colab\"/></a>"
      ]
    },
    {
      "cell_type": "code",
      "metadata": {
        "id": "eBkUNiIgTPbG"
      },
      "source": [
        "#Método profesor\n",
        "class Array():\n",
        "  def __init__(self , tamano):\n",
        "    self.__tamano = tamano\n",
        "    self.__data = [0 for x in range(self.__tamano)]\n",
        "\n",
        "  def get_item(self , index):\n",
        "    return self.__data[index]\n",
        "\n",
        "  def to_string(self):\n",
        "    print(self.__data)\n",
        "\n",
        "  def set_item(self , index , valor):\n",
        "    if self.__check_limits__(index):\n",
        "      self.__data[index]=valor\n",
        "    else:\n",
        "       raise Exception('Error de limites en index')\n",
        "  \n",
        "  def get_length(self):\n",
        "    return self.__tamano\n",
        "\n",
        "  def clear (self , dato):\n",
        "    self.__data =  [dato for x in self.__data]\n",
        "\n",
        "  def __check_limits__(self , index):\n",
        "    return index >=0 and index < self.__tamano"
      ],
      "execution_count": 8,
      "outputs": []
    },
    {
      "cell_type": "code",
      "metadata": {
        "colab": {
          "base_uri": "https://localhost:8080/"
        },
        "id": "iQSKReTCTT2d",
        "outputId": "d171fd6b-ffca-42fe-e406-bf9f7428b718"
      },
      "source": [
        "lista = Array(10)\n",
        "\n",
        "lista.set_item(0,33)\n",
        "lista.set_item(1,3)\n",
        "lista.set_item(2,88)\n",
        "lista.set_item(3,42)\n",
        "lista.set_item(4,12)\n",
        "lista.set_item(5,28)\n",
        "lista.set_item(6,14)\n",
        "lista.set_item(7,100)\n",
        "lista.set_item(8,1)\n",
        "lista.set_item(9,60)\n",
        "\n",
        "for indice in range(lista.get_length()):\n",
        "  print(lista.get_item(indice))\n",
        "\n",
        "#lista.clear(-1)\n",
        "\n",
        "for indice in range(lista.get_length()):\n",
        "  print(lista.get_item(indice))"
      ],
      "execution_count": 9,
      "outputs": [
        {
          "output_type": "stream",
          "name": "stdout",
          "text": [
            "33\n",
            "3\n",
            "88\n",
            "42\n",
            "12\n",
            "28\n",
            "14\n",
            "100\n",
            "1\n",
            "60\n",
            "33\n",
            "3\n",
            "88\n",
            "42\n",
            "12\n",
            "28\n",
            "14\n",
            "100\n",
            "1\n",
            "60\n"
          ]
        }
      ]
    },
    {
      "cell_type": "markdown",
      "metadata": {
        "id": "sT2Z2rgnWaAg"
      },
      "source": [
        " # Métodos de búsquea y ordenamiento.\n",
        "\n",
        " Búsqueda lineal.\n",
        "- De el recorrido desde la posición 0 hasta la posición n-1\n",
        "buscando un valor dado por el usuario.\n",
        "\n",
        "- Es un algoritmo simple pero ineficiente.\n",
        "\n",
        "- No se sabe la complejidad por que depende de los datos internos"
      ]
    },
    {
      "cell_type": "code",
      "metadata": {
        "colab": {
          "base_uri": "https://localhost:8080/"
        },
        "id": "EqLMpoahWj2N",
        "outputId": "830ae70c-39ef-41d2-f5b7-9b8ff88832d8"
      },
      "source": [
        "#Búsqueda lineal ejemplo\n",
        "valor_a_buscar = int(input(\"¿Que valor quieres buscar?: \"))\n",
        "encontrado = False\n",
        "for indice in range( lista.get_length() ):\n",
        "  if valor_a_buscar == lista.get_item(indice):\n",
        "    print(f\"El elemento se encuentra en la posición: {indice}\")\n",
        "    encontrado = True\n",
        "    break\n",
        "\n",
        "if encontrado:\n",
        "  print(\"El elemento si existe en el arreglo\")\n",
        "else:\n",
        "  print(\"El elemnto no esta en el arreglo\")"
      ],
      "execution_count": 11,
      "outputs": [
        {
          "output_type": "stream",
          "name": "stdout",
          "text": [
            "¿Que valor quieres buscar?: 444\n",
            "El elemnto no esta en el arreglo\n"
          ]
        }
      ]
    },
    {
      "cell_type": "markdown",
      "metadata": {
        "id": "3mwQGkKybKdm"
      },
      "source": [
        "# Método de ordenamiento de la burbuja"
      ]
    }
  ]
}