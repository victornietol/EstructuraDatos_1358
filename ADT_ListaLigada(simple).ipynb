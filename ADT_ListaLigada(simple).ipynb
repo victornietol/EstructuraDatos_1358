{
  "nbformat": 4,
  "nbformat_minor": 0,
  "metadata": {
    "colab": {
      "name": "ADT_ListaLigada(simple).ipynb",
      "provenance": [],
      "authorship_tag": "ABX9TyPoYZkd+wJzDaDjaDkE21O2",
      "include_colab_link": true
    },
    "kernelspec": {
      "name": "python3",
      "display_name": "Python 3"
    },
    "language_info": {
      "name": "python"
    }
  },
  "cells": [
    {
      "cell_type": "markdown",
      "metadata": {
        "id": "view-in-github",
        "colab_type": "text"
      },
      "source": [
        "<a href=\"https://colab.research.google.com/github/victornietol/EstructuraDatos_1358/blob/master/ADT_ListaLigada(simple).ipynb\" target=\"_parent\"><img src=\"https://colab.research.google.com/assets/colab-badge.svg\" alt=\"Open In Colab\"/></a>"
      ]
    },
    {
      "cell_type": "code",
      "metadata": {
        "id": "5cPIi1QbR_Qp"
      },
      "source": [
        "class Nodo:\n",
        "  def __init__(self, value, siguiente = None):\n",
        "    self.data = value\n",
        "    self.next = siguiente"
      ],
      "execution_count": null,
      "outputs": []
    },
    {
      "cell_type": "code",
      "metadata": {
        "colab": {
          "base_uri": "https://localhost:8080/"
        },
        "id": "yrknTltdTiAr",
        "outputId": "34f95b80-37f8-4777-b4ac-d42b53f75ac5"
      },
      "source": [
        "head = Nodo(30)\n",
        "print(head.data)\n",
        "print(head.next)\n",
        "\n"
      ],
      "execution_count": null,
      "outputs": [
        {
          "output_type": "stream",
          "name": "stdout",
          "text": [
            "30\n",
            "None\n"
          ]
        }
      ]
    },
    {
      "cell_type": "code",
      "metadata": {
        "colab": {
          "base_uri": "https://localhost:8080/"
        },
        "id": "fPGTyq5CVWcL",
        "outputId": "40946f88-11a6-4748-ee6b-b5a62936e57d"
      },
      "source": [
        "punto_entrada = Nodo(20)\n",
        "punto_entrada.next = Nodo(15)\n",
        "\n",
        "print(punto_entrada.data)\n",
        "#print(punto_entrada.next)\n",
        "print(punto_entrada.next.data)\n",
        "#print(punto_entrada.next.next)\n",
        "print(\"Hacer los mismo pero con el segundo metodo\")\n",
        "\n",
        "punto_entrada = Nodo(20, Nodo(15))\n",
        "\n",
        "print(punto_entrada.data)\n",
        "print(punto_entrada.next.data)"
      ],
      "execution_count": null,
      "outputs": [
        {
          "output_type": "stream",
          "name": "stdout",
          "text": [
            "20\n",
            "15\n",
            "Hacer los mismo pero con el segundo metodo\n",
            "20\n",
            "15\n"
          ]
        }
      ]
    },
    {
      "cell_type": "code",
      "metadata": {
        "colab": {
          "base_uri": "https://localhost:8080/"
        },
        "id": "Q-Ai1Ku9e7SS",
        "outputId": "0015d64b-6dc1-4ad2-ba9a-78c281d531f6"
      },
      "source": [
        "head3 = Nodo(10, Nodo(20, Nodo(30)))\n",
        "print(head3.next.next.data)\n",
        "\n",
        "head4 = Nodo(5, Nodo(6, Nodo(7, Nodo(8, Nodo(9)))))\n",
        "print(head4.next.next.data)"
      ],
      "execution_count": null,
      "outputs": [
        {
          "output_type": "stream",
          "name": "stdout",
          "text": [
            "30\n",
            "7\n"
          ]
        }
      ]
    },
    {
      "cell_type": "markdown",
      "metadata": {
        "id": "ElYR8dG5gjbV"
      },
      "source": [
        "# Como recorrer una lista ligada dinamicamente"
      ]
    },
    {
      "cell_type": "code",
      "metadata": {
        "colab": {
          "base_uri": "https://localhost:8080/"
        },
        "id": "A5D_ZoVJgoRW",
        "outputId": "f7babbd0-1bb2-49fe-b76a-dbadb35ff1d5"
      },
      "source": [
        "head4 = Nodo(5, Nodo(6, Nodo(7, Nodo(8, Nodo(9)))))\n",
        "\n",
        "curr_node = head4\n",
        "\n",
        "#Para recorrer\n",
        "while curr_node != None:\n",
        "  print(curr_node.data)\n",
        "  curr_node = curr_node.next\n",
        "\n",
        "print(\"AGREGAR 10 AL FINAL\")\n",
        "curr_node = head4\n",
        "while curr_node.next != None:\n",
        "  curr_node = curr_node.next\n",
        "curr_node.next = Nodo(10)\n",
        "\n",
        "curr_node = head4\n",
        "while curr_node != None:\n",
        "  print(curr_node.data)\n",
        "  curr_node = curr_node.next"
      ],
      "execution_count": null,
      "outputs": [
        {
          "output_type": "stream",
          "name": "stdout",
          "text": [
            "5\n",
            "6\n",
            "7\n",
            "8\n",
            "9\n",
            "AGREGAR 10 AL FINAL\n",
            "5\n",
            "6\n",
            "7\n",
            "8\n",
            "9\n",
            "10\n"
          ]
        }
      ]
    },
    {
      "cell_type": "code",
      "metadata": {
        "colab": {
          "base_uri": "https://localhost:8080/"
        },
        "id": "np1ijx1ilmM6",
        "outputId": "11d0e5c2-ce3b-4de5-aa59-a21a9232f7d4"
      },
      "source": [
        "class Nodo:\n",
        "  def __init__(self, value, siguiente = None):\n",
        "    self.data = value\n",
        "    self.next = siguiente\n",
        "\n",
        "class LinkedListADT:\n",
        "  def __init__(self):\n",
        "    self.head = None\n",
        "  \n",
        "  def is_empty(self):\n",
        "    return self.head == None\n",
        "\n",
        "  def get_tail(self):\n",
        "    curr_node = self.head\n",
        "    if self.head != None:\n",
        "      while curr_node.next != None:\n",
        "        curr_node = curr_node.next\n",
        "    return curr_node\n",
        "\n",
        "  def append(self, dato):\n",
        "    if self.is_empty():\n",
        "      self.head = Nodo(dato)\n",
        "    else:\n",
        "      self.get_tail().next = Nodo(dato)\n",
        "\n",
        "  def prepend(self, dato):\n",
        "    if self.is_empty():\n",
        "      self.head = Nodo(dato)\n",
        "    else:\n",
        "      self.head = Nodo(dato,self.head)\n",
        "\n",
        "  def remove(self, dato):\n",
        "    curr_node = self.head\n",
        "    aux = False\n",
        "    self.head = None\n",
        "    while curr_node != None:\n",
        "      if curr_node.data == dato:\n",
        "        aux = True\n",
        "        curr_node = curr_node.next\n",
        "        break   \n",
        " \n",
        "      self.append(curr_node.data)  \n",
        "      curr_node = curr_node.next\n",
        "\n",
        "    while curr_node != None:                 \n",
        "      self.append(curr_node.data)  \n",
        "      curr_node = curr_node.next               \n",
        "\n",
        "    if aux == False:\n",
        "      print(\"Elemento no encontrado\")\n",
        "\n",
        "  def trasnversal(self):\n",
        "    curr_node = self.head\n",
        "    while curr_node != None:\n",
        "      print(curr_node.data, end=\" --> \")\n",
        "      curr_node = curr_node.next\n",
        "    print()\n",
        "   \n",
        "  def pop(self):\n",
        "    curr_node = self.head\n",
        "    self.head = None\n",
        "    while curr_node != None:\n",
        "      if curr_node.next ==  None:\n",
        "        return curr_node         \n",
        "      else:\n",
        "        self.append(curr_node.data)\n",
        "        curr_node = curr_node.next\n",
        "\n",
        "  def pop_first(self):\n",
        "    tmp = self.head             \n",
        "    curr_node = self.head.next\n",
        "    self.head = None\n",
        "    while curr_node != None:\n",
        "      self.append(curr_node.data)\n",
        "      curr_node = curr_node.next\n",
        "    return tmp\n",
        "\n",
        "def main():\n",
        "  lsl = LinkedListADT()\n",
        "  print(lsl.is_empty())\n",
        "  nodo = lsl.get_tail()\n",
        "  print(nodo) # None\n",
        "  lsl.append(10)\n",
        "  lsl.append(20)\n",
        "  lsl.append(5)\n",
        "  lsl.append(20)\n",
        "  lsl.prepend(5)\n",
        "  lsl.trasnversal()\n",
        "  print(\"------------------\")\n",
        "  lsl.remove(20)\n",
        "  lsl.trasnversal()\n",
        "  print(lsl.pop().data)\n",
        "  lsl.trasnversal()\n",
        "  print(lsl.pop_first().data)\n",
        "  lsl.trasnversal()\n",
        "\n",
        "main()"
      ],
      "execution_count": null,
      "outputs": [
        {
          "output_type": "stream",
          "name": "stdout",
          "text": [
            "True\n",
            "None\n",
            "5 --> 10 --> 20 --> 5 --> 20 --> \n",
            "------------------\n",
            "5 --> 10 --> 5 --> 20 --> \n",
            "20\n",
            "5 --> 10 --> 5 --> \n",
            "5\n",
            "10 --> 5 --> \n"
          ]
        }
      ]
    }
  ]
}