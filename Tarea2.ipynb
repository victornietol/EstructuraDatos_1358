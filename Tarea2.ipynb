{
  "nbformat": 4,
  "nbformat_minor": 0,
  "metadata": {
    "colab": {
      "name": "Tarea2.ipynb",
      "provenance": [],
      "authorship_tag": "ABX9TyNKnQkM+MlYw+LDN5tsmSLH",
      "include_colab_link": true
    },
    "kernelspec": {
      "name": "python3",
      "display_name": "Python 3"
    },
    "language_info": {
      "name": "python"
    }
  },
  "cells": [
    {
      "cell_type": "markdown",
      "metadata": {
        "id": "view-in-github",
        "colab_type": "text"
      },
      "source": [
        "<a href=\"https://colab.research.google.com/github/victornietol/EstructuraDatos_1358/blob/master/Tarea2.ipynb\" target=\"_parent\"><img src=\"https://colab.research.google.com/assets/colab-badge.svg\" alt=\"Open In Colab\"/></a>"
      ]
    },
    {
      "cell_type": "code",
      "metadata": {
        "colab": {
          "base_uri": "https://localhost:8080/"
        },
        "id": "M_l5m6oVWCw4",
        "outputId": "e9b14411-22c2-4ddd-90aa-a86013df5bd3"
      },
      "source": [
        "#Ejercicio 1\n",
        "\n",
        "def sumLista(n):\n",
        "  if len(n)==1:\n",
        "    return n[0]\n",
        "  else:\n",
        "    return n[0] + sumLista(n[1:])\n",
        "\n",
        "num = int(input(\"Ingresa cuantos números se van a sumar: \"))\n",
        "listaNum = [0 for x in range(num)]\n",
        "for i in range(num):\n",
        "  listaNum[i]=int(input(f\"Introduce la cantidad {i+1}: \"))\n",
        "\n",
        "res = sumLista(listaNum)\n",
        "print(\"\\nEl resultado de la suma es:\",res )"
      ],
      "execution_count": null,
      "outputs": [
        {
          "output_type": "stream",
          "name": "stdout",
          "text": [
            "Ingresa cuantos números se van a sumar: 4\n",
            "Introduce la cantidad 1: 6\n",
            "Introduce la cantidad 2: 6\n",
            "Introduce la cantidad 3: 6\n",
            "Introduce la cantidad 4: 6\n",
            "\n",
            "El resultado de la suma es: 24\n"
          ]
        }
      ]
    },
    {
      "cell_type": "code",
      "metadata": {
        "colab": {
          "base_uri": "https://localhost:8080/"
        },
        "id": "TTfx8DAdh2T4",
        "outputId": "422dfced-f5db-4236-9c44-bd870f8e11b1"
      },
      "source": [
        "#Ejercicio 2\n",
        "\n",
        "def cuenta(n):\n",
        "  if n>= 0:\n",
        "    print(n)\n",
        "    cuenta(n-1)\n",
        "  else:\n",
        "    print(\"BOOMMMMM!!!\")\n",
        "    \n",
        "lim = int(input(\"Ingresa desde que número quieres que inicie la cuenta regresiva: \"))\n",
        "\n",
        "cuenta(lim)"
      ],
      "execution_count": null,
      "outputs": [
        {
          "output_type": "stream",
          "name": "stdout",
          "text": [
            "Ingresa desde que número quieres que inicie la cuenta regresiva: 12\n",
            "12\n",
            "11\n",
            "10\n",
            "9\n",
            "8\n",
            "7\n",
            "6\n",
            "5\n",
            "4\n",
            "3\n",
            "2\n",
            "1\n",
            "0\n",
            "BOOMMMMM!!!\n"
          ]
        }
      ]
    },
    {
      "cell_type": "code",
      "metadata": {
        "colab": {
          "base_uri": "https://localhost:8080/"
        },
        "id": "3iAKfE2hl5Hh",
        "outputId": "4c8933ac-456a-4f13-ceef-10eacef2fbe2"
      },
      "source": [
        "#Ejercicio 3\n",
        "\n",
        "def elim(n):\n",
        "  if (tam%2)==0:\n",
        "    ind = int(((len(lista))/2) - 1)\n",
        "    lista.pop(ind)\n",
        "    print(f\"Lista modificada: {lista}\")\n",
        "  else:\n",
        "    ind = int(((len(lista))/2))\n",
        "    lista.pop(ind)\n",
        "    print(f\"Lista modificada: {lista}\")\n",
        "\n",
        "tam = int(input(\"Ingresa la dimensión del arreglo: \"))\n",
        "lista = [0 for x in range(tam)]\n",
        "for i in range(tam):\n",
        "  lista[i] = int(input(f\"Ingresa el elemento {i+1}: \"))\n",
        "\n",
        "print(f\"\\nLista original: {lista}\\n\")\n",
        "elim(lista)"
      ],
      "execution_count": null,
      "outputs": [
        {
          "output_type": "stream",
          "name": "stdout",
          "text": [
            "Ingresa la dimensión del arreglo: 5\n",
            "Ingresa el elemento 1: 1\n",
            "Ingresa el elemento 2: 2\n",
            "Ingresa el elemento 3: 3\n",
            "Ingresa el elemento 4: 4\n",
            "Ingresa el elemento 5: 5\n",
            "\n",
            "Lista original: [1, 2, 3, 4, 5]\n",
            "\n",
            "Lista modificada: [1, 2, 4, 5]\n"
          ]
        }
      ]
    }
  ]
}