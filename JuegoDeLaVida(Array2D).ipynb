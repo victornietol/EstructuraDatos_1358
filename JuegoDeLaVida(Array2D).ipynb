{
  "nbformat": 4,
  "nbformat_minor": 0,
  "metadata": {
    "colab": {
      "name": "JuegoDeLaVida(Array2D).ipynb",
      "provenance": [],
      "authorship_tag": "ABX9TyOGJ+OEfF5zgNf1NYrX/Dr2",
      "include_colab_link": true
    },
    "kernelspec": {
      "name": "python3",
      "display_name": "Python 3"
    },
    "language_info": {
      "name": "python"
    }
  },
  "cells": [
    {
      "cell_type": "markdown",
      "metadata": {
        "id": "view-in-github",
        "colab_type": "text"
      },
      "source": [
        "<a href=\"https://colab.research.google.com/github/victornietol/EstructuraDatos_1358/blob/master/JuegoDeLaVida(Array2D).ipynb\" target=\"_parent\"><img src=\"https://colab.research.google.com/assets/colab-badge.svg\" alt=\"Open In Colab\"/></a>"
      ]
    },
    {
      "cell_type": "code",
      "metadata": {
        "colab": {
          "base_uri": "https://localhost:8080/"
        },
        "id": "-gpLk0rIC0yI",
        "outputId": "41575ebb-2c99-4073-981b-068fde355e2a"
      },
      "source": [
        "!pip install simple_chalk"
      ],
      "execution_count": null,
      "outputs": [
        {
          "output_type": "stream",
          "name": "stdout",
          "text": [
            "Requirement already satisfied: simple_chalk in /usr/local/lib/python3.7/dist-packages (0.1.0)\n"
          ]
        }
      ]
    },
    {
      "cell_type": "code",
      "metadata": {
        "id": "p3q3fv7G8vXd"
      },
      "source": [
        "class Array2D():\n",
        "  \n",
        "  def __init__(self, ren, col):\n",
        "    self.__columnas = col\n",
        "    self.__renglones = ren\n",
        "    self.__data = [[ 0 for i in range(col)]for i in range (ren)]\n",
        "\n",
        "  def to_string(self):\n",
        "    for i in range(self.__renglones):\n",
        "      print(self.__data[i])\n",
        "\n",
        "  def clear(self, dato):\n",
        "    for i in range (self.__renglones):\n",
        "      for x in range(self.__columnas):\n",
        "        self.__data[i][x] = dato\n",
        "\n",
        "  def get_row_size(self):\n",
        "    return self.__renglones\n",
        "\n",
        "  def get_col_size(self):\n",
        "    return self.__columnas\n",
        "  \n",
        "  def set_item(self,ren,col,dato):\n",
        "    self.__data[ren][col] = dato\n",
        "\n",
        "  def get_item(self,ren,col):\n",
        "    return self.__data[ren][col]"
      ],
      "execution_count": null,
      "outputs": []
    },
    {
      "cell_type": "code",
      "metadata": {
        "colab": {
          "base_uri": "https://localhost:8080/"
        },
        "id": "RmO5p953-FVx",
        "outputId": "d5d43497-eee9-400b-f99c-73b1d8968ac3"
      },
      "source": [
        "tablero = Array2D(6,5)\n",
        "tablero.to_string()\n",
        "tablero.clear('M')\n",
        "print(\"----------Población inicial--------------\")\n",
        "tablero.to_string()\n",
        "\n",
        "print(\"--------- Una idea de como establecer la poblción inicial ---------\")\n",
        "población_inicial = [ (2,2) , (3,1) , (3,2) , (3,3)] # Usando tuplas para poblacion inicial\n",
        "\n",
        "for par in población_inicial:\n",
        "  tablero.set_item(par[0],par[1], 'V')\n",
        "\n",
        "tablero.to_string()\n",
        "\n",
        "print(tablero.get_col_size())\n",
        "print(tablero.get_row_size())\n",
        "\n",
        "celula = tablero.get_item(2,1)\n",
        "print(celula)\n",
        "\n",
        "celula = tablero.get_item(2,2)\n",
        "print(celula)\n",
        "\n",
        "# ESTO NO SE DEBE HACER PORQUE ES DIFICIL DE DARLE MANTENIMIENTO"
      ],
      "execution_count": null,
      "outputs": [
        {
          "output_type": "stream",
          "name": "stdout",
          "text": [
            "[0, 0, 0, 0, 0]\n",
            "[0, 0, 0, 0, 0]\n",
            "[0, 0, 0, 0, 0]\n",
            "[0, 0, 0, 0, 0]\n",
            "[0, 0, 0, 0, 0]\n",
            "[0, 0, 0, 0, 0]\n",
            "----------Población inicial--------------\n",
            "['M', 'M', 'M', 'M', 'M']\n",
            "['M', 'M', 'M', 'M', 'M']\n",
            "['M', 'M', 'M', 'M', 'M']\n",
            "['M', 'M', 'M', 'M', 'M']\n",
            "['M', 'M', 'M', 'M', 'M']\n",
            "['M', 'M', 'M', 'M', 'M']\n",
            "--------- Una idea de como establecer la poblción inicial ---------\n",
            "['M', 'M', 'M', 'M', 'M']\n",
            "['M', 'M', 'M', 'M', 'M']\n",
            "['M', 'M', 'V', 'M', 'M']\n",
            "['M', 'V', 'V', 'V', 'M']\n",
            "['M', 'M', 'M', 'M', 'M']\n",
            "['M', 'M', 'M', 'M', 'M']\n",
            "5\n",
            "6\n",
            "M\n",
            "V\n"
          ]
        }
      ]
    },
    {
      "cell_type": "markdown",
      "metadata": {
        "id": "Wau3WvvOJWwA"
      },
      "source": [
        "## ¿Como debería programarse el juego de la vida?\n",
        "\n",
        "### R.- Programar un ADT especifico para empaquetar la lógica del juego de la vida."
      ]
    },
    {
      "cell_type": "code",
      "metadata": {
        "id": "C5uCTOC5JlEu"
      },
      "source": [
        "\"\"\"\n",
        "En el constructor :\n",
        "      lista_pob_inicial es una lista de tuplas que contiene las coordenadas \n",
        "      (ren,col) de las celulas vivas en la poblacion inicial\n",
        "\"\"\"\n",
        "\n",
        "class JuegoDelaVidaADT:\n",
        "  def __init__(self,rens,cols,lista_pob_inicial,generaciones):\n",
        "    self.tablero = Array2D( rens , cols)\n",
        "    self.generaciones = generaciones  # Cuantas gen jugará el usuario\n",
        "    self.gen = 1  # Se inicializa la genercion \n",
        "    self.tablero.clear('M')\n",
        "    for par in lista_pob_inicial:\n",
        "      self.tablero.set_item( par[0] , par[1] , 'V')\n",
        "\n",
        "  def to_string(self):\n",
        "    print(f\"---- GENERACIÓN {self.gen}\")\n",
        "    self.tablero.to_string()\n",
        "\n",
        "  \"\"\"\n",
        "  get_vecinos(r,c)\n",
        "  Va a calcular los vecinos de la celula en la pos. r , c \n",
        "  y regresará las columnas de los mismos\n",
        "\n",
        "  get_vecinos(0,0) -> [(0,1) , (1,0) , (1,1)]\n",
        "  get_vecinos(2,1) -> [(1,0) , (1,1) , (1,2) , (2,0) , (2,2) , (3,0) , (3,1) , (3,2)]\n",
        "  \"\"\"\n",
        "\n",
        "  def get_vecinos(self,r,c):\n",
        "    vecinos = []\n",
        "    for ren in range(r-1, r+2 , 1):\n",
        "      for col in range(c-1, c+2 , 1):\n",
        "        if ren < 0 or ren >= self.tablero.get_row_size() or col < 0 or col >= self.tablero.get_col_size() or (ren==r and col==c):\n",
        "          pass\n",
        "        else:\n",
        "          vecinos.append((ren,col))\n",
        "    return vecinos\n",
        "\n",
        "  def get_vecinos_vivos(self,r,c):\n",
        "    vivos = 0\n",
        "    vecinos = self.get_vecinos(r,c)\n",
        "    for par in vecinos:\n",
        "      if self.tablero.get_item(par[0], par[1]) == 'V':\n",
        "        vivos += 1\n",
        "    return vivos\n",
        "  \n",
        "  \"\"\"\n",
        "  recorrer todo el grid para aplicar las 4 reglas celula por celula, ir agregando el \n",
        "  resultado en una copia del tablero orginal al final sustituir el tablero general\n",
        "  por el local.\n",
        "  \"\"\"\n",
        "  def aplicar_reglas(self):\n",
        "    for gen in range(self.generaciones):\n",
        "      tmpTablero = Array2D(self.tablero.get_row_size(),self.tablero.get_col_size())\n",
        "      tmpTablero.clear('M')\n",
        "      for renglon in range(self.tablero.get_row_size()):\n",
        "        for columna in range(self.tablero.get_col_size()):\n",
        "          if self.tablero.get_item(renglon,columna) == 'V':\n",
        "            vecinosVivos = self.get_vecinos_vivos(renglon,columna)\n",
        "            if (vecinosVivos == 2) or (vecinosVivos == 3):\n",
        "              tmpTablero.set_item(renglon,columna,'V')\n",
        "            elif (vecinosVivos == 0) or (vecinosVivos == 1):\n",
        "              tmpTablero.set_item(renglon,columna,'M')\n",
        "            elif vecinosVivos >= 4:\n",
        "              tmpTablero.set_item(renglon,columna,'M')   \n",
        "          if self.tablero.get_item(renglon,columna) == 'M':\n",
        "            vecinosVivos = self.get_vecinos_vivos(renglon,columna)\n",
        "            if vecinosVivos == 3:\n",
        "              tmpTablero.set_item(renglon,columna,'V')\n",
        "            else:\n",
        "              pass\n",
        "      self.tablero = tmpTablero \n",
        "      self.gen += 1 \n",
        "      print(f\"------- GENERACIÓN {self.gen}\")\n",
        "      self.tablero.to_string()\n",
        "      \n",
        "  def play(self):\n",
        "    self.to_string()\n",
        "    self.aplicar_reglas()"
      ],
      "execution_count": null,
      "outputs": []
    },
    {
      "cell_type": "code",
      "metadata": {
        "colab": {
          "base_uri": "https://localhost:8080/"
        },
        "id": "GpKAd943MSO_",
        "outputId": "c5ba2a2c-690f-4d5e-8340-3561888512c7"
      },
      "source": [
        "juego = JuegoDelaVidaADT( 6 , 5, [(2,2),(3,1),(3,2),(3,3)] , 5 )\n",
        "juego.to_string()\n",
        "print(\"Vecinos de 5,4\")\n",
        "print(juego.get_vecinos(5,4))\n",
        "r=2\n",
        "c=2\n",
        "print(f\"Vecinos vivos de {r},{c} son {juego.get_vecinos_vivos(r,c)}\")\n",
        "juego.play()"
      ],
      "execution_count": null,
      "outputs": [
        {
          "output_type": "stream",
          "name": "stdout",
          "text": [
            "---- GENERACIÓN 1\n",
            "['M', 'M', 'M', 'M', 'M']\n",
            "['M', 'M', 'M', 'M', 'M']\n",
            "['M', 'M', 'V', 'M', 'M']\n",
            "['M', 'V', 'V', 'V', 'M']\n",
            "['M', 'M', 'M', 'M', 'M']\n",
            "['M', 'M', 'M', 'M', 'M']\n",
            "Vecinos de 5,4\n",
            "[(4, 3), (4, 4), (5, 3)]\n",
            "Vecinos vivos de 2,2 son 3\n",
            "---- GENERACIÓN 1\n",
            "['M', 'M', 'M', 'M', 'M']\n",
            "['M', 'M', 'M', 'M', 'M']\n",
            "['M', 'M', 'V', 'M', 'M']\n",
            "['M', 'V', 'V', 'V', 'M']\n",
            "['M', 'M', 'M', 'M', 'M']\n",
            "['M', 'M', 'M', 'M', 'M']\n",
            "------- GENERACIÓN 2\n",
            "['M', 'M', 'M', 'M', 'M']\n",
            "['M', 'M', 'M', 'M', 'M']\n",
            "['M', 'V', 'V', 'V', 'M']\n",
            "['M', 'V', 'V', 'V', 'M']\n",
            "['M', 'M', 'V', 'M', 'M']\n",
            "['M', 'M', 'M', 'M', 'M']\n",
            "------- GENERACIÓN 3\n",
            "['M', 'M', 'M', 'M', 'M']\n",
            "['M', 'M', 'V', 'M', 'M']\n",
            "['M', 'V', 'M', 'V', 'M']\n",
            "['M', 'M', 'M', 'M', 'M']\n",
            "['M', 'V', 'V', 'V', 'M']\n",
            "['M', 'M', 'M', 'M', 'M']\n",
            "------- GENERACIÓN 4\n",
            "['M', 'M', 'M', 'M', 'M']\n",
            "['M', 'M', 'V', 'M', 'M']\n",
            "['M', 'M', 'V', 'M', 'M']\n",
            "['M', 'V', 'M', 'V', 'M']\n",
            "['M', 'M', 'V', 'M', 'M']\n",
            "['M', 'M', 'V', 'M', 'M']\n",
            "------- GENERACIÓN 5\n",
            "['M', 'M', 'M', 'M', 'M']\n",
            "['M', 'M', 'M', 'M', 'M']\n",
            "['M', 'V', 'V', 'V', 'M']\n",
            "['M', 'V', 'M', 'V', 'M']\n",
            "['M', 'V', 'V', 'V', 'M']\n",
            "['M', 'M', 'M', 'M', 'M']\n",
            "------- GENERACIÓN 6\n",
            "['M', 'M', 'M', 'M', 'M']\n",
            "['M', 'M', 'V', 'M', 'M']\n",
            "['M', 'V', 'M', 'V', 'M']\n",
            "['V', 'M', 'M', 'M', 'V']\n",
            "['M', 'V', 'M', 'V', 'M']\n",
            "['M', 'M', 'V', 'M', 'M']\n"
          ]
        }
      ]
    },
    {
      "cell_type": "code",
      "metadata": {
        "colab": {
          "base_uri": "https://localhost:8080/"
        },
        "id": "oDBBNpc3DR0s",
        "outputId": "e06366d3-1306-461c-e26e-01ff70f4af40"
      },
      "source": [
        "from simple_chalk import *\n",
        "\n",
        "nombre = \"jose\"\n",
        "edad = 19\n",
        "print(nombre)\n",
        "print(edad)\n",
        "print(chalk.green(nombre))\n",
        "print(chalk.blue.bgYellowBright(edad))\n",
        "#prueba = 'V'\n",
        "#prueba2 = 'M'\n",
        "prueba = chalk.whiteBright.bgGreenBright('V')\n",
        "prueba2 = chalk.whiteBright.bgRedBright('M')\n",
        "prueba3 = chalk.yellowBright.bgBlueBright('Prueba3')\n",
        "\n",
        "print(prueba)\n",
        "print(prueba2)\n",
        "print(prueba3)\n",
        "\n",
        "listaEx = [[prueba,prueba2,prueba3],[prueba,prueba2,prueba3],[prueba,prueba2,prueba3]]\n",
        "print(listaEx)\n",
        "for index in range(3):\n",
        "  print(\"\")\n",
        "  for ind in range(3):\n",
        "    print(listaEx[index][ind],end=\"\")"
      ],
      "execution_count": null,
      "outputs": [
        {
          "output_type": "stream",
          "name": "stdout",
          "text": [
            "jose\n",
            "19\n",
            "\u001b[32mjose\u001b[0m\n",
            "\u001b[34;103m19\u001b[0m\n",
            "\u001b[97;102mV\u001b[0m\n",
            "\u001b[97;101mM\u001b[0m\n",
            "\u001b[93;104mPrueba3\u001b[0m\n",
            "[['\\x1b[97;102mV\\x1b[0m', '\\x1b[97;101mM\\x1b[0m', '\\x1b[93;104mPrueba3\\x1b[0m'], ['\\x1b[97;102mV\\x1b[0m', '\\x1b[97;101mM\\x1b[0m', '\\x1b[93;104mPrueba3\\x1b[0m'], ['\\x1b[97;102mV\\x1b[0m', '\\x1b[97;101mM\\x1b[0m', '\\x1b[93;104mPrueba3\\x1b[0m']]\n",
            "\n",
            "\u001b[97;102mV\u001b[0m\u001b[97;101mM\u001b[0m\u001b[93;104mPrueba3\u001b[0m\n",
            "\u001b[97;102mV\u001b[0m\u001b[97;101mM\u001b[0m\u001b[93;104mPrueba3\u001b[0m\n",
            "\u001b[97;102mV\u001b[0m\u001b[97;101mM\u001b[0m\u001b[93;104mPrueba3\u001b[0m"
          ]
        }
      ]
    }
  ]
}