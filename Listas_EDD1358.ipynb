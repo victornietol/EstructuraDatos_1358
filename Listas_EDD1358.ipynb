{
  "nbformat": 4,
  "nbformat_minor": 0,
  "metadata": {
    "colab": {
      "name": "Listas_EDD1358.ipynb",
      "provenance": [],
      "authorship_tag": "ABX9TyMY79bR88Zyh4Ul5tUU1gWs",
      "include_colab_link": true
    },
    "kernelspec": {
      "name": "python3",
      "display_name": "Python 3"
    },
    "language_info": {
      "name": "python"
    }
  },
  "cells": [
    {
      "cell_type": "markdown",
      "metadata": {
        "id": "view-in-github",
        "colab_type": "text"
      },
      "source": [
        "<a href=\"https://colab.research.google.com/github/victornietol/EstructuraDatos_1358/blob/master/Listas_EDD1358.ipynb\" target=\"_parent\"><img src=\"https://colab.research.google.com/assets/colab-badge.svg\" alt=\"Open In Colab\"/></a>"
      ]
    },
    {
      "cell_type": "code",
      "metadata": {
        "id": "5cPIi1QbR_Qp"
      },
      "source": [
        "class Nodo:\n",
        "  def __init__(self, value, siguiente = None):\n",
        "    self.data = value\n",
        "    self.next = siguiente"
      ],
      "execution_count": 1,
      "outputs": []
    },
    {
      "cell_type": "code",
      "metadata": {
        "colab": {
          "base_uri": "https://localhost:8080/"
        },
        "id": "yrknTltdTiAr",
        "outputId": "5b841f92-a7e0-45c5-fc5f-bc1044e040d0"
      },
      "source": [
        "head = Nodo(30)\n",
        "print(head.data)\n",
        "print(head.next)\n",
        "\n"
      ],
      "execution_count": 3,
      "outputs": [
        {
          "output_type": "stream",
          "name": "stdout",
          "text": [
            "30\n",
            "None\n"
          ]
        }
      ]
    },
    {
      "cell_type": "code",
      "metadata": {
        "colab": {
          "base_uri": "https://localhost:8080/"
        },
        "id": "fPGTyq5CVWcL",
        "outputId": "6a24e5b1-0753-4fa0-d38f-badc6a89cd62"
      },
      "source": [
        "punto_entrada = Nodo(20)\n",
        "punto_entrada.next = Nodo(15)\n",
        "\n",
        "print(punto_entrada.data)\n",
        "#print(punto_entrada.next)\n",
        "print(punto_entrada.next.data)\n",
        "#print(punto_entrada.next.next)\n",
        "print(\"Hacer los mismo pero con el segundo metodo\")\n",
        "\n",
        "punto_entrada = Nodo(20, Nodo(15))\n",
        "\n",
        "print(punto_entrada.data)\n",
        "print(punto_entrada.next.data)"
      ],
      "execution_count": 6,
      "outputs": [
        {
          "output_type": "stream",
          "name": "stdout",
          "text": [
            "20\n",
            "15\n",
            "Hacer los mismo pero con el segundo metodo\n",
            "20\n",
            "15\n"
          ]
        }
      ]
    }
  ]
}