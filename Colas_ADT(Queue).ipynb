{
  "nbformat": 4,
  "nbformat_minor": 0,
  "metadata": {
    "colab": {
      "name": "Colas_ADT(Queue).ipynb",
      "provenance": [],
      "authorship_tag": "ABX9TyMMxHwPc8T1YVFR7GamRe0l",
      "include_colab_link": true
    },
    "kernelspec": {
      "name": "python3",
      "display_name": "Python 3"
    },
    "language_info": {
      "name": "python"
    }
  },
  "cells": [
    {
      "cell_type": "markdown",
      "metadata": {
        "id": "view-in-github",
        "colab_type": "text"
      },
      "source": [
        "<a href=\"https://colab.research.google.com/github/victornietol/EstructuraDatos_1358/blob/master/Colas_ADT(Queue).ipynb\" target=\"_parent\"><img src=\"https://colab.research.google.com/assets/colab-badge.svg\" alt=\"Open In Colab\"/></a>"
      ]
    },
    {
      "cell_type": "code",
      "metadata": {
        "id": "HmvTnMMlqO01"
      },
      "source": [
        "class QueueADT:\n",
        "  def __init__(self):\n",
        "    self.__data = []\n",
        "\n",
        "  def is_empty(self):\n",
        "    return len(self.__data) == 0\n",
        "\n",
        "  def length(self):\n",
        "    return len(self.__data)\n",
        "\n",
        "  def enqueue(self, elem):\n",
        "    self.__data.append(elem)\n",
        "\n",
        "  def dequeue(self):\n",
        "    if not self.is_empty():\n",
        "      return self.__data.pop(0)\n",
        "\n",
        "  def to_string(self):\n",
        "    for elem in self.__data:\n",
        "      print(f\"| {elem} | <--\", end=\" \")\n",
        "    print(\"\")"
      ],
      "execution_count": 2,
      "outputs": []
    },
    {
      "cell_type": "code",
      "metadata": {
        "colab": {
          "base_uri": "https://localhost:8080/"
        },
        "id": "oTeuTla7ulvr",
        "outputId": "a4d75fdc-d42d-48f9-a1b6-01d859904c84"
      },
      "source": [
        "cola = QueueADT()\n",
        "print(\"Esta vacío?\", cola.is_empty())\n",
        "print(\"# de elementos:\", cola.length())\n",
        "cola.enqueue(10)\n",
        "cola.to_string()\n",
        "print(\"-------------\")\n",
        "cola.enqueue(20)\n",
        "cola.enqueue(30)\n",
        "cola.enqueue(40)\n",
        "cola.to_string()\n",
        "siguiente = cola.dequeue()\n",
        "print(\"Atendiendo a:\", siguiente)\n",
        "cola.to_string()"
      ],
      "execution_count": 6,
      "outputs": [
        {
          "output_type": "stream",
          "name": "stdout",
          "text": [
            "Esta vacío? True\n",
            "# de elementos: 0\n",
            "| 10 | <-- \n",
            "-------------\n",
            "| 10 | <-- | 20 | <-- | 30 | <-- | 40 | <-- \n",
            "Atendiendo a: 10\n",
            "| 20 | <-- | 30 | <-- | 40 | <-- \n"
          ]
        }
      ]
    }
  ]
}