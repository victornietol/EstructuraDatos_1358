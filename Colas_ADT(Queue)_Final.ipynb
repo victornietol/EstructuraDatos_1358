{
  "nbformat": 4,
  "nbformat_minor": 0,
  "metadata": {
    "colab": {
      "name": "Colas_ADT(Queue)_Final.ipynb",
      "provenance": [],
      "authorship_tag": "ABX9TyOqqkSsFl30IgFQXKKKpoyl",
      "include_colab_link": true
    },
    "kernelspec": {
      "name": "python3",
      "display_name": "Python 3"
    },
    "language_info": {
      "name": "python"
    }
  },
  "cells": [
    {
      "cell_type": "markdown",
      "metadata": {
        "id": "view-in-github",
        "colab_type": "text"
      },
      "source": [
        "<a href=\"https://colab.research.google.com/github/victornietol/EstructuraDatos_1358/blob/master/Colas_ADT(Queue)_Final.ipynb\" target=\"_parent\"><img src=\"https://colab.research.google.com/assets/colab-badge.svg\" alt=\"Open In Colab\"/></a>"
      ]
    },
    {
      "cell_type": "code",
      "metadata": {
        "id": "HmvTnMMlqO01"
      },
      "source": [
        "class QueueADT:\n",
        "  def __init__(self):\n",
        "    self.__data = []\n",
        "\n",
        "  def is_empty(self):\n",
        "    return len(self.__data) == 0\n",
        "\n",
        "  def length(self):\n",
        "    return len(self.__data)\n",
        "\n",
        "  def enqueue(self, elem):\n",
        "    self.__data.append(elem)\n",
        "\n",
        "  def dequeue(self):\n",
        "    if not self.is_empty():\n",
        "      return self.__data.pop(0)\n",
        "\n",
        "  def to_string(self):\n",
        "    for elem in self.__data:\n",
        "      print(f\"| {elem} | <--\", end=\" \")\n",
        "    print(\"\")"
      ],
      "execution_count": null,
      "outputs": []
    },
    {
      "cell_type": "code",
      "metadata": {
        "colab": {
          "base_uri": "https://localhost:8080/"
        },
        "id": "oTeuTla7ulvr",
        "outputId": "52dc32f9-7d9b-4f29-a771-5cd2d9876144"
      },
      "source": [
        "cola = QueueADT()\n",
        "print(\"Esta vacío?\", cola.is_empty())\n",
        "print(\"# de elementos:\", cola.length())\n",
        "cola.enqueue(10)\n",
        "cola.to_string()\n",
        "print(\"-------------\")\n",
        "cola.enqueue(20)\n",
        "cola.enqueue(30)\n",
        "cola.enqueue(40)\n",
        "cola.to_string()\n",
        "siguiente = cola.dequeue()\n",
        "print(\"Atendiendo a:\", siguiente)\n",
        "cola.to_string()"
      ],
      "execution_count": null,
      "outputs": [
        {
          "output_type": "stream",
          "name": "stdout",
          "text": [
            "Esta vacío? True\n",
            "# de elementos: 0\n",
            "| 10 | <-- \n",
            "-------------\n",
            "| 10 | <-- | 20 | <-- | 30 | <-- | 40 | <-- \n",
            "Atendiendo a: 10\n",
            "| 20 | <-- | 30 | <-- | 40 | <-- \n"
          ]
        }
      ]
    },
    {
      "cell_type": "code",
      "metadata": {
        "id": "3N8O3WZv-hFB"
      },
      "source": [
        "class ColaPrioridadAcotada:\n",
        "  def __init__(self, niveles):\n",
        "    self.__data = [ QueueADT() for x in range(niveles) ]\n",
        "    self.length = 0 # el numero de elementos encolados\n",
        "\n",
        "  def is_empty(self):\n",
        "    return self.length == 0\n",
        "\n",
        "  def length(self):\n",
        "    return self.length\n",
        "\n",
        "  def enqueue(self, prioridad, elem):\n",
        "    if prioridad >= 0 and prioridad < len(self.__data):\n",
        "      self.__data[prioridad].enqueue(elem)\n",
        "      self.length += 1\n",
        "\n",
        "  def to_string(self):\n",
        "    for p in range(len(self.__data)):\n",
        "      print(f\"Priodidad {p} = \", end=\"\")\n",
        "      self.__data[p].to_string()\n",
        "\n",
        "  def dequeue(self):\n",
        "    for nivel in self.__data:\n",
        "      if not nivel.is_empty():\n",
        "        self.length -= 1\n",
        "        return nivel.dequeue()"
      ],
      "execution_count": null,
      "outputs": []
    },
    {
      "cell_type": "code",
      "metadata": {
        "colab": {
          "base_uri": "https://localhost:8080/"
        },
        "id": "3SR-heK5Cm5x",
        "outputId": "9bb00b11-7b4c-4cf5-b626-0d58875bfcf3"
      },
      "source": [
        "cpa = ColaPrioridadAcotada(7)\n",
        "cpa.enqueue(4,\"A\")\n",
        "cpa.enqueue(2,\"Z\")\n",
        "cpa.enqueue(4,\"N\")\n",
        "cpa.enqueue(1,\"P\")\n",
        "cpa.to_string()\n",
        "print(\"-------------------\")\n",
        "siguiente = cpa.dequeue()\n",
        "cpa.to_string()"
      ],
      "execution_count": null,
      "outputs": [
        {
          "output_type": "stream",
          "name": "stdout",
          "text": [
            "Priodidad 0 = \n",
            "Priodidad 1 = | P | <-- \n",
            "Priodidad 2 = | Z | <-- \n",
            "Priodidad 3 = \n",
            "Priodidad 4 = | A | <-- | N | <-- \n",
            "Priodidad 5 = \n",
            "Priodidad 6 = \n",
            "-------------------\n",
            "Priodidad 0 = \n",
            "Priodidad 1 = \n",
            "Priodidad 2 = | Z | <-- \n",
            "Priodidad 3 = \n",
            "Priodidad 4 = | A | <-- | N | <-- \n",
            "Priodidad 5 = \n",
            "Priodidad 6 = \n"
          ]
        }
      ]
    },
    {
      "cell_type": "code",
      "metadata": {
        "id": "VQOAUT_uFf-x"
      },
      "source": [
        "class ColaDePrioridad:\n",
        "  def __init__(self):\n",
        "    self.__data = []\n",
        "    self.__length = 0\n",
        "\n",
        "  def is_empty(self):\n",
        "    return self.__length == 0\n",
        "\n",
        "  def length(self):\n",
        "    return self.__length\n",
        "\n",
        "  # Utilizar la funcion insert del tipo de dato list de python \n",
        "  # para mantener ordenado los niveles de prioridad\n",
        "  def enqueue(self, prioridad, elem):\n",
        "    existe = False\n",
        "    indice = 0\n",
        "    insertado = False\n",
        "    aux = 0\n",
        "    for index in range(len(self.__data)):\n",
        "      if self.__data[index][\"p\"] == prioridad:\n",
        "        existe = True\n",
        "        indice = index\n",
        "        break\n",
        "    if existe:\n",
        "      self.__data[indice][\"cola\"].enqueue(elem)\n",
        "    else:\n",
        "      if len(self.__data) == 0:               # ningun elemento\n",
        "        self.__data.append( {\"p\":prioridad, \"cola\": QueueADT()} )\n",
        "        self.__data[-1][\"cola\"].enqueue(elem)\n",
        "        self.__length += 1\n",
        "      elif prioridad < self.__data[0][\"p\"]:   # insertando al principio\n",
        "        self.__data.insert(0, {\"p\":prioridad, \"cola\": QueueADT()} )\n",
        "        self.__data[0][\"cola\"].enqueue(elem)\n",
        "        self.__length += 1\n",
        "      elif prioridad > self.__data[-1][\"p\"]:  # insertando al final\n",
        "        self.__data.append( {\"p\":prioridad, \"cola\": QueueADT()} )\n",
        "        self.__data[-1][\"cola\"].enqueue(elem)\n",
        "        self.__length += 1\n",
        "      else:                                  # insertando en medio\n",
        "        while not insertado:\n",
        "          if prioridad > self.__data[aux][\"p\"] and prioridad < self.__data[aux+1][\"p\"]:\n",
        "            self.__data.insert(aux+1, {\"p\":prioridad, \"cola\": QueueADT()} )\n",
        "            self.__data[aux+1][\"cola\"].enqueue(elem)\n",
        "            self.__length += 1\n",
        "            insertado = True\n",
        "          else:\n",
        "            aux += 1\n",
        "  \n",
        "  def dequeue(self):\n",
        "    for nivel in self.__data:\n",
        "      if not nivel[\"cola\"].is_empty():\n",
        "        self.__length = len(self.__data)\n",
        "        return nivel[\"cola\"].dequeue()\n",
        "\n",
        "  def to_string(self):\n",
        "    for level in self.__data:\n",
        "      print(level[\"p\"], end=\" = \")\n",
        "      level[\"cola\"].to_string()"
      ],
      "execution_count": 187,
      "outputs": []
    },
    {
      "cell_type": "code",
      "metadata": {
        "colab": {
          "base_uri": "https://localhost:8080/"
        },
        "id": "y2-KDm6faI8l",
        "outputId": "c00ef675-b2a7-4604-8683-2ad70bf14e93"
      },
      "source": [
        "cp = ColaDePrioridad()\n",
        "cp.enqueue(2,\"A\")\n",
        "cp.enqueue(4,\"Z\")\n",
        "cp.enqueue(1,\"R\")\n",
        "cp.enqueue(2,\"B\")\n",
        "cp.enqueue(4,\"Y\")\n",
        "cp.enqueue(3,\"R\")\n",
        "cp.enqueue(5,\"T\")\n",
        "cp.enqueue(0,\"P\")\n",
        "cp.enqueue(3,\"L\")\n",
        "cp.to_string()\n",
        "print(\"--------------\")\n",
        "siguiente = cp.dequeue()\n",
        "cp.to_string()\n",
        "print(\"--------------\")\n",
        "siguiente = cp.dequeue()\n",
        "cp.to_string()\n",
        "print(\"--------------\")\n",
        "siguiente = cp.dequeue()\n",
        "cp.to_string()"
      ],
      "execution_count": 188,
      "outputs": [
        {
          "output_type": "stream",
          "name": "stdout",
          "text": [
            "0 = | P | <-- \n",
            "1 = | R | <-- \n",
            "2 = | A | <-- | B | <-- \n",
            "3 = | R | <-- | L | <-- \n",
            "4 = | Z | <-- | Y | <-- \n",
            "5 = | T | <-- \n",
            "--------------\n",
            "0 = \n",
            "1 = | R | <-- \n",
            "2 = | A | <-- | B | <-- \n",
            "3 = | R | <-- | L | <-- \n",
            "4 = | Z | <-- | Y | <-- \n",
            "5 = | T | <-- \n",
            "--------------\n",
            "0 = \n",
            "1 = \n",
            "2 = | A | <-- | B | <-- \n",
            "3 = | R | <-- | L | <-- \n",
            "4 = | Z | <-- | Y | <-- \n",
            "5 = | T | <-- \n",
            "--------------\n",
            "0 = \n",
            "1 = \n",
            "2 = | B | <-- \n",
            "3 = | R | <-- | L | <-- \n",
            "4 = | Z | <-- | Y | <-- \n",
            "5 = | T | <-- \n"
          ]
        }
      ]
    }
  ]
}