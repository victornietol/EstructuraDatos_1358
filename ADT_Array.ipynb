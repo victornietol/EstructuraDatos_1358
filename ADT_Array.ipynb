{
  "nbformat": 4,
  "nbformat_minor": 0,
  "metadata": {
    "colab": {
      "name": "ADT_Array.ipynb",
      "provenance": [],
      "authorship_tag": "ABX9TyNQoIa6sqXFN4Vqg81eUtCI",
      "include_colab_link": true
    },
    "kernelspec": {
      "name": "python3",
      "display_name": "Python 3"
    },
    "language_info": {
      "name": "python"
    }
  },
  "cells": [
    {
      "cell_type": "markdown",
      "metadata": {
        "id": "view-in-github",
        "colab_type": "text"
      },
      "source": [
        "<a href=\"https://colab.research.google.com/github/victornietol/EstructuraDatos_1358/blob/master/ADT_Array.ipynb\" target=\"_parent\"><img src=\"https://colab.research.google.com/assets/colab-badge.svg\" alt=\"Open In Colab\"/></a>"
      ]
    },
    {
      "cell_type": "code",
      "metadata": {
        "id": "Qw-5KXbhIOhy"
      },
      "source": [
        "\"\"\"\n",
        "ADT Array.\n",
        "Es una estructura de datos estatico lineal\n",
        "\"\"\"\n",
        "\n",
        "class Array():\n",
        "  def __init__(self , tamano):\n",
        "    self.__tamano = tamano\n",
        "    self.__data = [0 for x in range(self.__tamano)]\n",
        "\n",
        "  def get_item(self , index):\n",
        "    return self.__data[index]\n",
        "\n",
        "  def to_string(self):\n",
        "    print(self.__data)\n",
        "\n",
        "  def set_item(self , dato , index2):\n",
        "    self.__dato = dato\n",
        "    self.__data[index2] = dato\n",
        "  \n",
        "  def get_length(self):\n",
        "    print(f\"El tamaño del arreglo es: {len(self.__data)}\")\n",
        "  \n",
        "  def clear(self , datoE):\n",
        "    self.__datoE = datoE \n",
        "    for i in range(self.__tamano):\n",
        "      self.__data[i] = datoE "
      ],
      "execution_count": 82,
      "outputs": []
    },
    {
      "cell_type": "code",
      "metadata": {
        "colab": {
          "base_uri": "https://localhost:8080/"
        },
        "id": "jwWCYa0jL-dz",
        "outputId": "caff6710-abfa-453b-e319-2f95aff3a8f1"
      },
      "source": [
        "ejemplo = Array(5)\n",
        "ejemplo.to_string()\n",
        "print(f\"El elemento obtenido es: {ejemplo.get_item(2)}\")\n",
        "ejemplo.set_item(1358,2)\n",
        "ejemplo.set_item(\"hola\",1)\n",
        "ejemplo.get_length()\n",
        "print(\"---------Arreglo modificado----------\")\n",
        "ejemplo.to_string()\n",
        "ejemplo.clear(\"Nuevo dato\")\n",
        "print(\"----Arreglo modificado nuevamente----\")\n",
        "ejemplo.to_string()"
      ],
      "execution_count": 85,
      "outputs": [
        {
          "output_type": "stream",
          "name": "stdout",
          "text": [
            "[0, 0, 0, 0, 0]\n",
            "El elemento obtenido es: 0\n",
            "El tamaño del arreglo es: 5\n",
            "---------Arreglo modificado----------\n",
            "[0, 'hola', 1358, 0, 0]\n",
            "----Arreglo modificado nuevamente----\n",
            "['Nuevo dato', 'Nuevo dato', 'Nuevo dato', 'Nuevo dato', 'Nuevo dato']\n"
          ]
        }
      ]
    }
  ]
}