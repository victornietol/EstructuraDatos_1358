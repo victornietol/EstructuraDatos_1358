{
  "nbformat": 4,
  "nbformat_minor": 0,
  "metadata": {
    "colab": {
      "name": "JuegoDeLaVida(Tarea6).ipynb",
      "provenance": [],
      "authorship_tag": "ABX9TyML5Cm8crAEe/BfkgaZNT6N",
      "include_colab_link": true
    },
    "kernelspec": {
      "name": "python3",
      "display_name": "Python 3"
    },
    "language_info": {
      "name": "python"
    }
  },
  "cells": [
    {
      "cell_type": "markdown",
      "metadata": {
        "id": "view-in-github",
        "colab_type": "text"
      },
      "source": [
        "<a href=\"https://colab.research.google.com/github/victornietol/EstructuraDatos_1358/blob/master/JuegoDeLaVida(Tarea6).ipynb\" target=\"_parent\"><img src=\"https://colab.research.google.com/assets/colab-badge.svg\" alt=\"Open In Colab\"/></a>"
      ]
    },
    {
      "cell_type": "code",
      "metadata": {
        "colab": {
          "base_uri": "https://localhost:8080/"
        },
        "id": "0rNidbWq58wJ",
        "outputId": "a519bfd3-7fd1-4633-a6ad-f94599251c5d"
      },
      "source": [
        "!pip install simple_chalk\n",
        "from simple_chalk import *"
      ],
      "execution_count": 6,
      "outputs": [
        {
          "output_type": "stream",
          "name": "stdout",
          "text": [
            "Requirement already satisfied: simple_chalk in /usr/local/lib/python3.7/dist-packages (0.1.0)\n"
          ]
        }
      ]
    },
    {
      "cell_type": "code",
      "metadata": {
        "id": "E9xen91h5_AJ"
      },
      "source": [
        "class Array2D():\n",
        "  def __init__(self, ren, col):\n",
        "    self.__columnas = col\n",
        "    self.__renglones = ren\n",
        "    self.__data = [[ 0 for i in range(col)]for i in range (ren)]\n",
        "\n",
        "  def to_string(self):\n",
        "    for i in range(self.__renglones):\n",
        "      print(chalk.whiteBright.bgRedBright(self.__data[i]))\n",
        "\n",
        "  def clear(self, dato):\n",
        "    for i in range (self.__renglones):\n",
        "      for x in range(self.__columnas):\n",
        "        self.__data[i][x] = dato\n",
        "\n",
        "  def get_row_size(self):\n",
        "    return self.__renglones\n",
        "\n",
        "  def get_col_size(self):\n",
        "    return self.__columnas\n",
        "  \n",
        "  def set_item(self,ren,col,dato):\n",
        "    self.__data[ren][col] = dato\n",
        "\n",
        "  def get_item(self,ren,col):\n",
        "    return self.__data[ren][col]"
      ],
      "execution_count": 7,
      "outputs": []
    },
    {
      "cell_type": "code",
      "metadata": {
        "id": "lC0Tl4WO6DkL"
      },
      "source": [
        "class JuegoDelaVidaADT:\n",
        "  def __init__(self,rens,cols,lista_pob_inicial,generaciones):\n",
        "    self.tablero = Array2D( rens , cols)\n",
        "    self.generaciones = generaciones  \n",
        "    self.gen = 1   \n",
        "    self.tablero.clear('M')\n",
        "    for par in lista_pob_inicial:\n",
        "      self.tablero.set_item( par[0] , par[1] , 'V')\n",
        "\n",
        "  def to_string(self):\n",
        "    print(chalk.redBright(f\"------- GENERACIÓN {self.gen}\"))\n",
        "    self.tablero.to_string()\n",
        "\n",
        "  def get_vecinos(self,r,c):\n",
        "    vecinos = []\n",
        "    for ren in range(r-1, r+2 , 1):\n",
        "      for col in range(c-1, c+2 , 1):\n",
        "        if ren < 0 or ren >= self.tablero.get_row_size() or col < 0 or col >= self.tablero.get_col_size() or (ren==r and col==c):\n",
        "          pass\n",
        "        else:\n",
        "          vecinos.append((ren,col))\n",
        "    return vecinos\n",
        "\n",
        "  def get_vecinos_vivos(self,r,c):\n",
        "    vivos = 0\n",
        "    vecinos = self.get_vecinos(r,c)\n",
        "    for par in vecinos:\n",
        "      if self.tablero.get_item(par[0], par[1]) == 'V':\n",
        "        vivos += 1\n",
        "    return vivos\n",
        "  \n",
        "  def aplicar_reglas(self):\n",
        "    for gen in range(self.generaciones):\n",
        "      tmpTablero = Array2D(self.tablero.get_row_size(),self.tablero.get_col_size())\n",
        "      tmpTablero.clear('M')\n",
        "      for renglon in range(self.tablero.get_row_size()):\n",
        "        for columna in range(self.tablero.get_col_size()):\n",
        "          if self.tablero.get_item(renglon,columna) == 'V':\n",
        "            vecinosVivos = self.get_vecinos_vivos(renglon,columna)\n",
        "            if (vecinosVivos == 2) or (vecinosVivos == 3):\n",
        "              tmpTablero.set_item(renglon,columna,'V')\n",
        "            elif (vecinosVivos == 0) or (vecinosVivos == 1):\n",
        "              tmpTablero.set_item(renglon,columna,'M')\n",
        "            elif vecinosVivos >= 4:\n",
        "              tmpTablero.set_item(renglon,columna,'M')   \n",
        "          if self.tablero.get_item(renglon,columna) == 'M':\n",
        "            vecinosVivos = self.get_vecinos_vivos(renglon,columna)\n",
        "            if vecinosVivos == 3:\n",
        "              tmpTablero.set_item(renglon,columna,'V')\n",
        "            else:\n",
        "              pass\n",
        "      self.tablero = tmpTablero \n",
        "      self.gen += 1 \n",
        "      self.to_string()\n",
        "\n",
        "  def play(self):\n",
        "    self.to_string()\n",
        "    self.aplicar_reglas()"
      ],
      "execution_count": 8,
      "outputs": []
    },
    {
      "cell_type": "code",
      "metadata": {
        "colab": {
          "base_uri": "https://localhost:8080/"
        },
        "id": "yDRTJ-lg6O9g",
        "outputId": "a02d90d0-bc69-4eaa-ed5b-01df3e2de930"
      },
      "source": [
        "juego = JuegoDelaVidaADT( 6 , 5, [(2,2),(3,1),(3,2),(3,3)] , 5 )\n",
        "juego.play()"
      ],
      "execution_count": 9,
      "outputs": [
        {
          "output_type": "stream",
          "name": "stdout",
          "text": [
            "\u001b[91m------- GENERACIÓN 1\u001b[0m\n",
            "\u001b[97;101m['M', 'M', 'M', 'M', 'M']\u001b[0m\n",
            "\u001b[97;101m['M', 'M', 'M', 'M', 'M']\u001b[0m\n",
            "\u001b[97;101m['M', 'M', 'V', 'M', 'M']\u001b[0m\n",
            "\u001b[97;101m['M', 'V', 'V', 'V', 'M']\u001b[0m\n",
            "\u001b[97;101m['M', 'M', 'M', 'M', 'M']\u001b[0m\n",
            "\u001b[97;101m['M', 'M', 'M', 'M', 'M']\u001b[0m\n",
            "\u001b[91m------- GENERACIÓN 2\u001b[0m\n",
            "\u001b[97;101m['M', 'M', 'M', 'M', 'M']\u001b[0m\n",
            "\u001b[97;101m['M', 'M', 'M', 'M', 'M']\u001b[0m\n",
            "\u001b[97;101m['M', 'V', 'V', 'V', 'M']\u001b[0m\n",
            "\u001b[97;101m['M', 'V', 'V', 'V', 'M']\u001b[0m\n",
            "\u001b[97;101m['M', 'M', 'V', 'M', 'M']\u001b[0m\n",
            "\u001b[97;101m['M', 'M', 'M', 'M', 'M']\u001b[0m\n",
            "\u001b[91m------- GENERACIÓN 3\u001b[0m\n",
            "\u001b[97;101m['M', 'M', 'M', 'M', 'M']\u001b[0m\n",
            "\u001b[97;101m['M', 'M', 'V', 'M', 'M']\u001b[0m\n",
            "\u001b[97;101m['M', 'V', 'M', 'V', 'M']\u001b[0m\n",
            "\u001b[97;101m['M', 'M', 'M', 'M', 'M']\u001b[0m\n",
            "\u001b[97;101m['M', 'V', 'V', 'V', 'M']\u001b[0m\n",
            "\u001b[97;101m['M', 'M', 'M', 'M', 'M']\u001b[0m\n",
            "\u001b[91m------- GENERACIÓN 4\u001b[0m\n",
            "\u001b[97;101m['M', 'M', 'M', 'M', 'M']\u001b[0m\n",
            "\u001b[97;101m['M', 'M', 'V', 'M', 'M']\u001b[0m\n",
            "\u001b[97;101m['M', 'M', 'V', 'M', 'M']\u001b[0m\n",
            "\u001b[97;101m['M', 'V', 'M', 'V', 'M']\u001b[0m\n",
            "\u001b[97;101m['M', 'M', 'V', 'M', 'M']\u001b[0m\n",
            "\u001b[97;101m['M', 'M', 'V', 'M', 'M']\u001b[0m\n",
            "\u001b[91m------- GENERACIÓN 5\u001b[0m\n",
            "\u001b[97;101m['M', 'M', 'M', 'M', 'M']\u001b[0m\n",
            "\u001b[97;101m['M', 'M', 'M', 'M', 'M']\u001b[0m\n",
            "\u001b[97;101m['M', 'V', 'V', 'V', 'M']\u001b[0m\n",
            "\u001b[97;101m['M', 'V', 'M', 'V', 'M']\u001b[0m\n",
            "\u001b[97;101m['M', 'V', 'V', 'V', 'M']\u001b[0m\n",
            "\u001b[97;101m['M', 'M', 'M', 'M', 'M']\u001b[0m\n",
            "\u001b[91m------- GENERACIÓN 6\u001b[0m\n",
            "\u001b[97;101m['M', 'M', 'M', 'M', 'M']\u001b[0m\n",
            "\u001b[97;101m['M', 'M', 'V', 'M', 'M']\u001b[0m\n",
            "\u001b[97;101m['M', 'V', 'M', 'V', 'M']\u001b[0m\n",
            "\u001b[97;101m['V', 'M', 'M', 'M', 'V']\u001b[0m\n",
            "\u001b[97;101m['M', 'V', 'M', 'V', 'M']\u001b[0m\n",
            "\u001b[97;101m['M', 'M', 'V', 'M', 'M']\u001b[0m\n"
          ]
        }
      ]
    }
  ]
}