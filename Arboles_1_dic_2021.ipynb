{
  "nbformat": 4,
  "nbformat_minor": 0,
  "metadata": {
    "colab": {
      "name": "Arboles_1_dic_2021.ipynb",
      "provenance": [],
      "authorship_tag": "ABX9TyMYdzsi1A5VFuSz3Q1l+0nE",
      "include_colab_link": true
    },
    "kernelspec": {
      "name": "python3",
      "display_name": "Python 3"
    },
    "language_info": {
      "name": "python"
    }
  },
  "cells": [
    {
      "cell_type": "markdown",
      "metadata": {
        "id": "view-in-github",
        "colab_type": "text"
      },
      "source": [
        "<a href=\"https://colab.research.google.com/github/victornietol/EstructuraDatos_1358/blob/master/Arboles_1_dic_2021.ipynb\" target=\"_parent\"><img src=\"https://colab.research.google.com/assets/colab-badge.svg\" alt=\"Open In Colab\"/></a>"
      ]
    },
    {
      "cell_type": "code",
      "metadata": {
        "id": "iU8lm1yFtKfh"
      },
      "source": [
        "class BinaryNode:\n",
        "  def __init__(self, value, left=None, rigth=None):\n",
        "    self.data = value\n",
        "    self.left = left\n",
        "    self.rigth = rigth"
      ],
      "execution_count": null,
      "outputs": []
    },
    {
      "cell_type": "code",
      "metadata": {
        "id": "HIFDsDBKukVP"
      },
      "source": [
        "class TernaryNode:\n",
        "  def __init__(self, value, left=None, center=None, rigth=None):\n",
        "    self.data = value\n",
        "    self.left = left\n",
        "    self.center = center\n",
        "    self.rigth = rigth"
      ],
      "execution_count": null,
      "outputs": []
    },
    {
      "cell_type": "code",
      "metadata": {
        "colab": {
          "base_uri": "https://localhost:8080/"
        },
        "id": "TjCdAtw8vGhE",
        "outputId": "88ee77d9-c495-4585-e33b-1d5885a8bb61"
      },
      "source": [
        "root = BinaryNode(\"R\", BinaryNode(\"C\"), BinaryNode(\"H\"))\n",
        "print(root.left.data)"
      ],
      "execution_count": null,
      "outputs": [
        {
          "output_type": "stream",
          "name": "stdout",
          "text": [
            "C\n"
          ]
        }
      ]
    },
    {
      "cell_type": "code",
      "metadata": {
        "colab": {
          "base_uri": "https://localhost:8080/"
        },
        "id": "3thACSsNwLbx",
        "outputId": "6fa1364a-a587-4be3-8f6b-e8379ee6e96d"
      },
      "source": [
        "root = TernaryNode(4,TernaryNode(3,TernaryNode(5,left=TernaryNode(2)),\\\n",
        "                                 TernaryNode(5),TernaryNode(2)), None, TernaryNode(5))\n",
        "print(root.left.left.left.data)\n",
        "print(\"---------------\")\n",
        "aux = root\n",
        "while aux.left != None:\n",
        "  aux = aux.left\n",
        "print(aux.data)\n",
        "print(\"---------------\")\n",
        "print(root.left.rigth.data)"
      ],
      "execution_count": null,
      "outputs": [
        {
          "output_type": "stream",
          "name": "stdout",
          "text": [
            "2\n",
            "---------------\n",
            "2\n",
            "---------------\n",
            "2\n"
          ]
        }
      ]
    },
    {
      "cell_type": "code",
      "metadata": {
        "colab": {
          "base_uri": "https://localhost:8080/"
        },
        "id": "nA380v_H4-ja",
        "outputId": "dc45f395-0280-4f3f-dabb-861c611e75e0"
      },
      "source": [
        "root = BinaryNode(\"Santi\", None, BinaryNode(\"Jesus\",BinaryNode(\"Pedro\",None,BinaryNode(\"Pedro Jr\")),None))\n",
        "print(root.rigth.left.rigth.data)"
      ],
      "execution_count": null,
      "outputs": [
        {
          "output_type": "stream",
          "name": "stdout",
          "text": [
            "Pedro Jr\n"
          ]
        }
      ]
    },
    {
      "cell_type": "code",
      "metadata": {
        "id": "UzWFFI3sdBb3"
      },
      "source": [
        "class BinaryNode:\n",
        "  def __init__(self, value, left=None, rigth=None):\n",
        "    self.data = value\n",
        "    self.left = left\n",
        "    self.rigth = rigth\n",
        "\n",
        "class BinarySearchTree:\n",
        "  def __init__(self):\n",
        "    self.root = None\n",
        "    \n",
        "  def insert(self, value):\n",
        "    if self.root == None:\n",
        "      self.root = BinaryNode(value)\n",
        "    else:\n",
        "      self.__insert_nodo(self.root, value)\n",
        "\n",
        "  def __insert_nodo(self, nodo, value):\n",
        "    if nodo.data == value:\n",
        "      pass\n",
        "    elif value < nodo.data:  # Ir a la izquierda\n",
        "      if nodo.left == None:\n",
        "        nodo.left = BinaryNode(value)\n",
        "      else:\n",
        "        self.__insert_nodo(nodo.left, value)\n",
        "    else:                    # Ir a la derecha\n",
        "      if nodo.rigth == None:\n",
        "        nodo.rigth = BinaryNode(value)\n",
        "      else:\n",
        "        self.__insert_nodo(nodo.rigth, value)\n",
        "\n",
        "  def transversal(self, formato = \"posorden\"):\n",
        "    if formato == \"posorden\":\n",
        "      self.recorrido_pos(self.root)\n",
        "    elif formato == \"preorden\":\n",
        "      self.recorrido_pre(self.root)\n",
        "    else: #inorden\n",
        "      self.recorrido_in(self.root)\n",
        "    print()\n",
        "  \n",
        "  def recorrido_pos(self, nodo):\n",
        "    if nodo != None:\n",
        "      self.recorrido_pos(nodo.left)\n",
        "      self.recorrido_pos(nodo.rigth)\n",
        "      print(str(nodo.data), end=\" , \")\n",
        "\n",
        "  def recorrido_pre(self, nodo):\n",
        "    if nodo != None:\n",
        "      print(str(nodo.data), end=\" , \")\n",
        "      self.recorrido_pre(nodo.left)\n",
        "      self.recorrido_pre(nodo.rigth)\n",
        "\n",
        "  def recorrido_in(self, nodo):\n",
        "    if nodo != None:\n",
        "      self.recorrido_in(nodo.left)\n",
        "      print(str(nodo.data), end=\" , \")\n",
        "      self.recorrido_in(nodo.rigth)\n",
        "\n",
        "  def search(self, value):\n",
        "    if self.root == None:\n",
        "      print(\"El árbol está vacío\")\n",
        "      return None\n",
        "    else:\n",
        "      return self.__search(self.root, value)\n",
        "\n",
        "  def __search(self, nodo, value):\n",
        "    if nodo == None:\n",
        "      print(\"El dato no existe en el árbol\")\n",
        "      return None\n",
        "    elif nodo.data == value:\n",
        "      print(\"Encontrado\", nodo.data)\n",
        "      return nodo\n",
        "    elif value < nodo.data:\n",
        "      return self.__search(nodo.left, value)\n",
        "    else:\n",
        "      return self.__search(nodo.rigth, value)"
      ],
      "execution_count": 22,
      "outputs": []
    },
    {
      "cell_type": "code",
      "metadata": {
        "colab": {
          "base_uri": "https://localhost:8080/"
        },
        "id": "MQK5PDLyjrNQ",
        "outputId": "fda5372a-fb8b-417b-e407-832bec3d7ca2"
      },
      "source": [
        "arb1 = BinarySearchTree()\n",
        "arb1.insert(60)\n",
        "arb1.insert(30)\n",
        "arb1.insert(15)\n",
        "arb1.insert(40)\n",
        "arb1.transversal('posorden')\n",
        "arb1.transversal('preorden')\n",
        "arb1.transversal('inorden')\n",
        "print(arb1.search(110))\n",
        "print(arb1.search(15))\n",
        "res = arb1.search(30)\n",
        "print(res.data)\n",
        "print(res.left.data)"
      ],
      "execution_count": 18,
      "outputs": [
        {
          "output_type": "stream",
          "name": "stdout",
          "text": [
            "15 , 40 , 30 , 60 , \n",
            "60 , 30 , 15 , 40 , \n",
            "15 , 30 , 40 , 60 , \n",
            "El dato no existe en el árbol\n",
            "None\n",
            "Encontrado\n",
            "<__main__.BinaryNode object at 0x7f710c09ffd0>\n",
            "Encontrado\n",
            "30\n",
            "15\n"
          ]
        }
      ]
    },
    {
      "cell_type": "code",
      "metadata": {
        "colab": {
          "base_uri": "https://localhost:8080/"
        },
        "id": "UyNqXQZo16gK",
        "outputId": "81705748-1d7d-4753-e065-5d2900e1600c"
      },
      "source": [
        "arb2 = BinarySearchTree()\n",
        "arb2.insert(8)\n",
        "arb2.insert(5)\n",
        "arb2.insert(1)\n",
        "arb2.insert(4)\n",
        "arb2.insert(6)\n",
        "arb2.insert(7)\n",
        "arb2.insert(20)\n",
        "arb2.insert(12)\n",
        "arb2.insert(23)\n",
        "arb2.transversal('preorden')\n",
        "print(arb2.search(22))\n",
        "print(arb2.search(6).data)"
      ],
      "execution_count": 25,
      "outputs": [
        {
          "output_type": "stream",
          "name": "stdout",
          "text": [
            "8 , 5 , 1 , 4 , 6 , 7 , 20 , 12 , 23 , \n",
            "El dato no existe en el árbol\n",
            "None\n",
            "Encontrado 6\n",
            "6\n"
          ]
        }
      ]
    },
    {
      "cell_type": "code",
      "metadata": {
        "colab": {
          "base_uri": "https://localhost:8080/"
        },
        "id": "8RmpBCnb_oPO",
        "outputId": "bae4d356-5a17-4a12-cf6b-7f8c540fc9e4"
      },
      "source": [
        "arb3 = BinarySearchTree()\n",
        "arb2.insert(45)\n",
        "arb2.insert(23)\n",
        "arb2.insert(65)\n",
        "arb2.insert(2)\n",
        "arb2.insert(38)\n",
        "arb2.insert(7)\n",
        "arb2.insert(65)\n",
        "arb2.insert(52)\n",
        "arb2.insert(48)\n",
        "arb2.insert(96)\n",
        "arb2.transversal('preorden')"
      ],
      "execution_count": 29,
      "outputs": [
        {
          "output_type": "stream",
          "name": "stdout",
          "text": [
            "8 , 5 , 1 , 4 , 2 , 6 , 7 , 20 , 12 , 23 , 45 , 38 , 65 , 52 , 48 , 96 , \n"
          ]
        }
      ]
    }
  ]
}