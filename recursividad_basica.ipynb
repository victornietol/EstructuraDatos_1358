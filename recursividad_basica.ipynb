{
  "nbformat": 4,
  "nbformat_minor": 0,
  "metadata": {
    "colab": {
      "name": "recursividad_basica.ipynb",
      "provenance": [],
      "authorship_tag": "ABX9TyP2XwCO9smKrdbk3fTBMQdQ",
      "include_colab_link": true
    },
    "kernelspec": {
      "name": "python3",
      "display_name": "Python 3"
    },
    "language_info": {
      "name": "python"
    }
  },
  "cells": [
    {
      "cell_type": "markdown",
      "metadata": {
        "id": "view-in-github",
        "colab_type": "text"
      },
      "source": [
        "<a href=\"https://colab.research.google.com/github/victornietol/EstructuraDatos_1358/blob/master/recursividad_basica.ipynb\" target=\"_parent\"><img src=\"https://colab.research.google.com/assets/colab-badge.svg\" alt=\"Open In Colab\"/></a>"
      ]
    },
    {
      "cell_type": "code",
      "metadata": {
        "colab": {
          "base_uri": "https://localhost:8080/"
        },
        "id": "Vco1LCgUtX19",
        "outputId": "7ea29e78-82e4-4761-e85e-c6c1ad2a9b83"
      },
      "source": [
        "def factorial( n ):\n",
        "  if n == 0:\n",
        "    return 1\n",
        "  else :\n",
        "    return n * factorial(n-1)\n",
        "  \n",
        "n = 3\n",
        "print(factorial(n))"
      ],
      "execution_count": null,
      "outputs": [
        {
          "output_type": "stream",
          "name": "stdout",
          "text": [
            "6\n"
          ]
        }
      ]
    },
    {
      "cell_type": "code",
      "metadata": {
        "colab": {
          "base_uri": "https://localhost:8080/"
        },
        "id": "htlZVFhcwqSj",
        "outputId": "e3a9a6f5-9803-4402-a455-e2bc3b178e95"
      },
      "source": [
        "def printRev (n):\n",
        "  if n > 0:\n",
        "    print(n)\n",
        "    printRev(n-1)\n",
        "n = 3\n",
        "printRev(n)"
      ],
      "execution_count": null,
      "outputs": [
        {
          "output_type": "stream",
          "name": "stdout",
          "text": [
            "3\n",
            "2\n",
            "1\n"
          ]
        }
      ]
    },
    {
      "cell_type": "code",
      "metadata": {
        "colab": {
          "base_uri": "https://localhost:8080/"
        },
        "id": "SXBLmzHXzaFl",
        "outputId": "48c64c3f-b670-44c4-d6ea-c5388d157cba"
      },
      "source": [
        "def printRev (n):\n",
        "  if n > 0:\n",
        "    printRev(n-1)\n",
        "    print(n)      #Se intercambio el lugar del print\n",
        "\n",
        "n = 3\n",
        "printRev(n)"
      ],
      "execution_count": null,
      "outputs": [
        {
          "output_type": "stream",
          "name": "stdout",
          "text": [
            "1\n",
            "2\n",
            "3\n"
          ]
        }
      ]
    },
    {
      "cell_type": "code",
      "metadata": {
        "colab": {
          "base_uri": "https://localhost:8080/"
        },
        "id": "wBcbLgx4002U",
        "outputId": "4b4da6e6-d372-4b9f-b99a-b8115b6866eb"
      },
      "source": [
        "def fibonacci (n):\n",
        "  if n==0:\n",
        "    return 0\n",
        "  elif n==1:\n",
        "    return 1\n",
        "  elif n>1:\n",
        "    return fibonacci(n-1) + fibonacci(n-2)\n",
        "\n",
        "for n in range(20):\n",
        "  print(fibonacci(n))"
      ],
      "execution_count": null,
      "outputs": [
        {
          "output_type": "stream",
          "name": "stdout",
          "text": [
            "0\n",
            "1\n",
            "1\n",
            "2\n",
            "3\n",
            "5\n",
            "8\n",
            "13\n",
            "21\n",
            "34\n",
            "55\n",
            "89\n",
            "144\n",
            "233\n",
            "377\n",
            "610\n",
            "987\n",
            "1597\n",
            "2584\n",
            "4181\n"
          ]
        }
      ]
    },
    {
      "cell_type": "code",
      "metadata": {
        "colab": {
          "base_uri": "https://localhost:8080/"
        },
        "id": "L2fg9SD64MRf",
        "outputId": "07d80a02-6b37-4522-ee0e-8c9d7eee6699"
      },
      "source": [
        "#Solución profesor\n",
        "def fibonacci(n):\n",
        "  if n<=1:\n",
        "    return n\n",
        "  else:\n",
        "    return (fibonacci(n-1))+(fibonacci(n-2))\n",
        "\n",
        "for n in range(20):\n",
        "  print(fibonacci(n))"
      ],
      "execution_count": null,
      "outputs": [
        {
          "output_type": "stream",
          "name": "stdout",
          "text": [
            "0\n",
            "1\n",
            "1\n",
            "2\n",
            "3\n",
            "5\n",
            "8\n",
            "13\n",
            "21\n",
            "34\n",
            "55\n",
            "89\n",
            "144\n",
            "233\n",
            "377\n",
            "610\n",
            "987\n",
            "1597\n",
            "2584\n",
            "4181\n"
          ]
        }
      ]
    }
  ]
}