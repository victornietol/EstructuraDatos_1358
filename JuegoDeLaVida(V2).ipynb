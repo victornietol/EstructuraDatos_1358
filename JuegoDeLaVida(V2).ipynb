{
  "nbformat": 4,
  "nbformat_minor": 0,
  "metadata": {
    "colab": {
      "name": "JuegoDeLaVida(V2).ipynb",
      "provenance": [],
      "authorship_tag": "ABX9TyN212DG3GZlLVXpB4rKHDoi",
      "include_colab_link": true
    },
    "kernelspec": {
      "name": "python3",
      "display_name": "Python 3"
    },
    "language_info": {
      "name": "python"
    }
  },
  "cells": [
    {
      "cell_type": "markdown",
      "metadata": {
        "id": "view-in-github",
        "colab_type": "text"
      },
      "source": [
        "<a href=\"https://colab.research.google.com/github/victornietol/EstructuraDatos_1358/blob/master/JuegoDeLaVida(V2).ipynb\" target=\"_parent\"><img src=\"https://colab.research.google.com/assets/colab-badge.svg\" alt=\"Open In Colab\"/></a>"
      ]
    },
    {
      "cell_type": "code",
      "metadata": {
        "colab": {
          "base_uri": "https://localhost:8080/"
        },
        "id": "wL5kTGXxFviM",
        "outputId": "cd908881-4d69-42a7-b439-c5435dd89bc7"
      },
      "source": [
        "!pip install simple_chalk\n",
        "from simple_chalk import *"
      ],
      "execution_count": null,
      "outputs": [
        {
          "output_type": "stream",
          "name": "stdout",
          "text": [
            "Collecting simple_chalk\n",
            "  Downloading simple_chalk-0.1.0.tar.gz (13 kB)\n",
            "Building wheels for collected packages: simple-chalk\n",
            "  Building wheel for simple-chalk (setup.py) ... \u001b[?25l\u001b[?25hdone\n",
            "  Created wheel for simple-chalk: filename=simple_chalk-0.1.0-py3-none-any.whl size=22163 sha256=5bada2cc67889eb514154980bc9ffb3f48f855fac8ec50c89b7ca519ead2a86b\n",
            "  Stored in directory: /root/.cache/pip/wheels/24/e2/84/d54838032016039eef79df1137b91defaa6db068d825dfcdcd\n",
            "Successfully built simple-chalk\n",
            "Installing collected packages: simple-chalk\n",
            "Successfully installed simple-chalk-0.1.0\n"
          ]
        }
      ]
    },
    {
      "cell_type": "code",
      "metadata": {
        "id": "Kn_jYxohF1p2"
      },
      "source": [
        "class Array2D():\n",
        "  def __init__(self, ren, col):\n",
        "    self.__columnas = col\n",
        "    self.__renglones = ren\n",
        "    self.__data = [[ 0 for i in range(col)]for i in range (ren)]\n",
        "\n",
        "  def to_string(self):\n",
        "    for index in range(self.__renglones):\n",
        "      print(\"\")\n",
        "      for ind in range(self.__columnas):\n",
        "        print(self.__data[index][ind],end=\" \")\n",
        "\n",
        "  def clear(self, dato):\n",
        "    for i in range (self.__renglones):\n",
        "      for x in range(self.__columnas):\n",
        "        self.__data[i][x] = dato\n",
        "\n",
        "  def get_row_size(self):\n",
        "    return self.__renglones\n",
        "\n",
        "  def get_col_size(self):\n",
        "    return self.__columnas\n",
        "  \n",
        "  def set_item(self,ren,col,dato):\n",
        "    self.__data[ren][col] = dato\n",
        "\n",
        "  def get_item(self,ren,col):\n",
        "    return self.__data[ren][col]"
      ],
      "execution_count": null,
      "outputs": []
    },
    {
      "cell_type": "code",
      "metadata": {
        "id": "ZEIwbTBNF4fx"
      },
      "source": [
        "class JuegoDelaVidaADT:\n",
        "  def __init__(self,rens,cols,lista_pob_inicial,generaciones):\n",
        "    self.tablero = Array2D( rens , cols)\n",
        "    self.generaciones = generaciones  \n",
        "    self.gen = 1   \n",
        "    self.vivo = chalk.whiteBright.bgGreenBright('V')\n",
        "    self.muerto = chalk.whiteBright.bgRedBright('M')\n",
        "    self.tablero.clear(self.muerto)\n",
        "    for par in lista_pob_inicial:\n",
        "      self.tablero.set_item( par[0] , par[1] , self.vivo)\n",
        "\n",
        "  def to_string(self):\n",
        "    print(f\"------- GENERACIÓN {self.gen}\")\n",
        "    self.tablero.to_string()\n",
        "    print(\"\\n\")\n",
        "\n",
        "  def get_vecinos(self,r,c):\n",
        "    vecinos = []\n",
        "    for ren in range(r-1, r+2 , 1):\n",
        "      for col in range(c-1, c+2 , 1):\n",
        "        if ren < 0 or ren >= self.tablero.get_row_size() or col < 0 or col >= self.tablero.get_col_size() or (ren==r and col==c):\n",
        "          pass\n",
        "        else:\n",
        "          vecinos.append((ren,col))\n",
        "    return vecinos\n",
        "\n",
        "  def get_vecinos_vivos(self,r,c):\n",
        "    vivos = 0\n",
        "    vecinos = self.get_vecinos(r,c)\n",
        "    for par in vecinos:\n",
        "      if self.tablero.get_item(par[0], par[1]) == self.vivo:\n",
        "        vivos += 1\n",
        "    return vivos\n",
        "  \n",
        "  def aplicar_reglas(self):\n",
        "    for gen in range(self.generaciones):\n",
        "      tmpTablero = Array2D(self.tablero.get_row_size(),self.tablero.get_col_size())\n",
        "      tmpTablero.clear(self.muerto)\n",
        "      for renglon in range(self.tablero.get_row_size()):\n",
        "        for columna in range(self.tablero.get_col_size()):\n",
        "          if self.tablero.get_item(renglon,columna) == self.vivo:\n",
        "            vecinosVivos = self.get_vecinos_vivos(renglon,columna)\n",
        "            if (vecinosVivos == 2) or (vecinosVivos == 3):\n",
        "              tmpTablero.set_item(renglon,columna,self.vivo)\n",
        "            elif (vecinosVivos == 0) or (vecinosVivos == 1):\n",
        "              tmpTablero.set_item(renglon,columna,self.muerto)\n",
        "            elif vecinosVivos >= 4:\n",
        "              tmpTablero.set_item(renglon,columna,self.muerto)   \n",
        "          if self.tablero.get_item(renglon,columna) == self.muerto:\n",
        "            vecinosVivos = self.get_vecinos_vivos(renglon,columna)\n",
        "            if vecinosVivos == 3:\n",
        "              tmpTablero.set_item(renglon,columna,self.vivo)\n",
        "            else:\n",
        "              pass\n",
        "      self.tablero = tmpTablero \n",
        "      self.gen += 1 \n",
        "      self.to_string()\n",
        "\n",
        "  def play(self):\n",
        "    self.to_string()\n",
        "    self.aplicar_reglas()"
      ],
      "execution_count": null,
      "outputs": []
    },
    {
      "cell_type": "code",
      "metadata": {
        "colab": {
          "base_uri": "https://localhost:8080/"
        },
        "id": "TcnvMOBjF5J2",
        "outputId": "73118723-9f0b-4633-df0d-0c6168485920"
      },
      "source": [
        "juego = JuegoDelaVidaADT( 6 , 5, [(2,2),(3,1),(3,2),(3,3)] , 5 )\n",
        "juego.to_string()\n",
        "print(juego.tablero.get_item(2,1))\n",
        "print(juego.tablero.get_item(2,2))\n",
        "print(juego.get_vecinos(2,3))\n",
        "print(juego.get_vecinos_vivos(2,3))\n",
        "juego.play()"
      ],
      "execution_count": null,
      "outputs": [
        {
          "output_type": "stream",
          "name": "stdout",
          "text": [
            "------- GENERACIÓN 1\n",
            "\n",
            "\u001b[97;101mM\u001b[0m \u001b[97;101mM\u001b[0m \u001b[97;101mM\u001b[0m \u001b[97;101mM\u001b[0m \u001b[97;101mM\u001b[0m \n",
            "\u001b[97;101mM\u001b[0m \u001b[97;101mM\u001b[0m \u001b[97;101mM\u001b[0m \u001b[97;101mM\u001b[0m \u001b[97;101mM\u001b[0m \n",
            "\u001b[97;101mM\u001b[0m \u001b[97;101mM\u001b[0m \u001b[97;102mV\u001b[0m \u001b[97;101mM\u001b[0m \u001b[97;101mM\u001b[0m \n",
            "\u001b[97;101mM\u001b[0m \u001b[97;102mV\u001b[0m \u001b[97;102mV\u001b[0m \u001b[97;102mV\u001b[0m \u001b[97;101mM\u001b[0m \n",
            "\u001b[97;101mM\u001b[0m \u001b[97;101mM\u001b[0m \u001b[97;101mM\u001b[0m \u001b[97;101mM\u001b[0m \u001b[97;101mM\u001b[0m \n",
            "\u001b[97;101mM\u001b[0m \u001b[97;101mM\u001b[0m \u001b[97;101mM\u001b[0m \u001b[97;101mM\u001b[0m \u001b[97;101mM\u001b[0m \n",
            "\n",
            "\u001b[97;101mM\u001b[0m\n",
            "\u001b[97;102mV\u001b[0m\n",
            "[(1, 2), (1, 3), (1, 4), (2, 2), (2, 4), (3, 2), (3, 3), (3, 4)]\n",
            "3\n",
            "------- GENERACIÓN 1\n",
            "\n",
            "\u001b[97;101mM\u001b[0m \u001b[97;101mM\u001b[0m \u001b[97;101mM\u001b[0m \u001b[97;101mM\u001b[0m \u001b[97;101mM\u001b[0m \n",
            "\u001b[97;101mM\u001b[0m \u001b[97;101mM\u001b[0m \u001b[97;101mM\u001b[0m \u001b[97;101mM\u001b[0m \u001b[97;101mM\u001b[0m \n",
            "\u001b[97;101mM\u001b[0m \u001b[97;101mM\u001b[0m \u001b[97;102mV\u001b[0m \u001b[97;101mM\u001b[0m \u001b[97;101mM\u001b[0m \n",
            "\u001b[97;101mM\u001b[0m \u001b[97;102mV\u001b[0m \u001b[97;102mV\u001b[0m \u001b[97;102mV\u001b[0m \u001b[97;101mM\u001b[0m \n",
            "\u001b[97;101mM\u001b[0m \u001b[97;101mM\u001b[0m \u001b[97;101mM\u001b[0m \u001b[97;101mM\u001b[0m \u001b[97;101mM\u001b[0m \n",
            "\u001b[97;101mM\u001b[0m \u001b[97;101mM\u001b[0m \u001b[97;101mM\u001b[0m \u001b[97;101mM\u001b[0m \u001b[97;101mM\u001b[0m \n",
            "\n",
            "------- GENERACIÓN 2\n",
            "\n",
            "\u001b[97;101mM\u001b[0m \u001b[97;101mM\u001b[0m \u001b[97;101mM\u001b[0m \u001b[97;101mM\u001b[0m \u001b[97;101mM\u001b[0m \n",
            "\u001b[97;101mM\u001b[0m \u001b[97;101mM\u001b[0m \u001b[97;101mM\u001b[0m \u001b[97;101mM\u001b[0m \u001b[97;101mM\u001b[0m \n",
            "\u001b[97;101mM\u001b[0m \u001b[97;102mV\u001b[0m \u001b[97;102mV\u001b[0m \u001b[97;102mV\u001b[0m \u001b[97;101mM\u001b[0m \n",
            "\u001b[97;101mM\u001b[0m \u001b[97;102mV\u001b[0m \u001b[97;102mV\u001b[0m \u001b[97;102mV\u001b[0m \u001b[97;101mM\u001b[0m \n",
            "\u001b[97;101mM\u001b[0m \u001b[97;101mM\u001b[0m \u001b[97;102mV\u001b[0m \u001b[97;101mM\u001b[0m \u001b[97;101mM\u001b[0m \n",
            "\u001b[97;101mM\u001b[0m \u001b[97;101mM\u001b[0m \u001b[97;101mM\u001b[0m \u001b[97;101mM\u001b[0m \u001b[97;101mM\u001b[0m \n",
            "\n",
            "------- GENERACIÓN 3\n",
            "\n",
            "\u001b[97;101mM\u001b[0m \u001b[97;101mM\u001b[0m \u001b[97;101mM\u001b[0m \u001b[97;101mM\u001b[0m \u001b[97;101mM\u001b[0m \n",
            "\u001b[97;101mM\u001b[0m \u001b[97;101mM\u001b[0m \u001b[97;102mV\u001b[0m \u001b[97;101mM\u001b[0m \u001b[97;101mM\u001b[0m \n",
            "\u001b[97;101mM\u001b[0m \u001b[97;102mV\u001b[0m \u001b[97;101mM\u001b[0m \u001b[97;102mV\u001b[0m \u001b[97;101mM\u001b[0m \n",
            "\u001b[97;101mM\u001b[0m \u001b[97;101mM\u001b[0m \u001b[97;101mM\u001b[0m \u001b[97;101mM\u001b[0m \u001b[97;101mM\u001b[0m \n",
            "\u001b[97;101mM\u001b[0m \u001b[97;102mV\u001b[0m \u001b[97;102mV\u001b[0m \u001b[97;102mV\u001b[0m \u001b[97;101mM\u001b[0m \n",
            "\u001b[97;101mM\u001b[0m \u001b[97;101mM\u001b[0m \u001b[97;101mM\u001b[0m \u001b[97;101mM\u001b[0m \u001b[97;101mM\u001b[0m \n",
            "\n",
            "------- GENERACIÓN 4\n",
            "\n",
            "\u001b[97;101mM\u001b[0m \u001b[97;101mM\u001b[0m \u001b[97;101mM\u001b[0m \u001b[97;101mM\u001b[0m \u001b[97;101mM\u001b[0m \n",
            "\u001b[97;101mM\u001b[0m \u001b[97;101mM\u001b[0m \u001b[97;102mV\u001b[0m \u001b[97;101mM\u001b[0m \u001b[97;101mM\u001b[0m \n",
            "\u001b[97;101mM\u001b[0m \u001b[97;101mM\u001b[0m \u001b[97;102mV\u001b[0m \u001b[97;101mM\u001b[0m \u001b[97;101mM\u001b[0m \n",
            "\u001b[97;101mM\u001b[0m \u001b[97;102mV\u001b[0m \u001b[97;101mM\u001b[0m \u001b[97;102mV\u001b[0m \u001b[97;101mM\u001b[0m \n",
            "\u001b[97;101mM\u001b[0m \u001b[97;101mM\u001b[0m \u001b[97;102mV\u001b[0m \u001b[97;101mM\u001b[0m \u001b[97;101mM\u001b[0m \n",
            "\u001b[97;101mM\u001b[0m \u001b[97;101mM\u001b[0m \u001b[97;102mV\u001b[0m \u001b[97;101mM\u001b[0m \u001b[97;101mM\u001b[0m \n",
            "\n",
            "------- GENERACIÓN 5\n",
            "\n",
            "\u001b[97;101mM\u001b[0m \u001b[97;101mM\u001b[0m \u001b[97;101mM\u001b[0m \u001b[97;101mM\u001b[0m \u001b[97;101mM\u001b[0m \n",
            "\u001b[97;101mM\u001b[0m \u001b[97;101mM\u001b[0m \u001b[97;101mM\u001b[0m \u001b[97;101mM\u001b[0m \u001b[97;101mM\u001b[0m \n",
            "\u001b[97;101mM\u001b[0m \u001b[97;102mV\u001b[0m \u001b[97;102mV\u001b[0m \u001b[97;102mV\u001b[0m \u001b[97;101mM\u001b[0m \n",
            "\u001b[97;101mM\u001b[0m \u001b[97;102mV\u001b[0m \u001b[97;101mM\u001b[0m \u001b[97;102mV\u001b[0m \u001b[97;101mM\u001b[0m \n",
            "\u001b[97;101mM\u001b[0m \u001b[97;102mV\u001b[0m \u001b[97;102mV\u001b[0m \u001b[97;102mV\u001b[0m \u001b[97;101mM\u001b[0m \n",
            "\u001b[97;101mM\u001b[0m \u001b[97;101mM\u001b[0m \u001b[97;101mM\u001b[0m \u001b[97;101mM\u001b[0m \u001b[97;101mM\u001b[0m \n",
            "\n",
            "------- GENERACIÓN 6\n",
            "\n",
            "\u001b[97;101mM\u001b[0m \u001b[97;101mM\u001b[0m \u001b[97;101mM\u001b[0m \u001b[97;101mM\u001b[0m \u001b[97;101mM\u001b[0m \n",
            "\u001b[97;101mM\u001b[0m \u001b[97;101mM\u001b[0m \u001b[97;102mV\u001b[0m \u001b[97;101mM\u001b[0m \u001b[97;101mM\u001b[0m \n",
            "\u001b[97;101mM\u001b[0m \u001b[97;102mV\u001b[0m \u001b[97;101mM\u001b[0m \u001b[97;102mV\u001b[0m \u001b[97;101mM\u001b[0m \n",
            "\u001b[97;102mV\u001b[0m \u001b[97;101mM\u001b[0m \u001b[97;101mM\u001b[0m \u001b[97;101mM\u001b[0m \u001b[97;102mV\u001b[0m \n",
            "\u001b[97;101mM\u001b[0m \u001b[97;102mV\u001b[0m \u001b[97;101mM\u001b[0m \u001b[97;102mV\u001b[0m \u001b[97;101mM\u001b[0m \n",
            "\u001b[97;101mM\u001b[0m \u001b[97;101mM\u001b[0m \u001b[97;102mV\u001b[0m \u001b[97;101mM\u001b[0m \u001b[97;101mM\u001b[0m \n",
            "\n"
          ]
        }
      ]
    }
  ]
}