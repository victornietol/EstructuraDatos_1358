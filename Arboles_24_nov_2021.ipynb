{
  "nbformat": 4,
  "nbformat_minor": 0,
  "metadata": {
    "colab": {
      "name": "Arboles_24_nov_2021.ipynb",
      "provenance": [],
      "authorship_tag": "ABX9TyPTfID6ODC8rjdzEazwMnvy",
      "include_colab_link": true
    },
    "kernelspec": {
      "name": "python3",
      "display_name": "Python 3"
    },
    "language_info": {
      "name": "python"
    }
  },
  "cells": [
    {
      "cell_type": "markdown",
      "metadata": {
        "id": "view-in-github",
        "colab_type": "text"
      },
      "source": [
        "<a href=\"https://colab.research.google.com/github/victornietol/EstructuraDatos_1358/blob/master/Arboles_24_nov_2021.ipynb\" target=\"_parent\"><img src=\"https://colab.research.google.com/assets/colab-badge.svg\" alt=\"Open In Colab\"/></a>"
      ]
    },
    {
      "cell_type": "code",
      "metadata": {
        "id": "iU8lm1yFtKfh"
      },
      "source": [
        "class BinaryNode:\n",
        "  def __init__(self, value, left=None, rigth=None):\n",
        "    self.data = value\n",
        "    self.left = left\n",
        "    self.rigth = rigth"
      ],
      "execution_count": 13,
      "outputs": []
    },
    {
      "cell_type": "code",
      "metadata": {
        "id": "HIFDsDBKukVP"
      },
      "source": [
        "class TernaryNode:\n",
        "  def __init__(self, value, left=None, center=None, rigth=None):\n",
        "    self.data = value\n",
        "    self.left = left\n",
        "    self.center = center\n",
        "    self.rigth = rigth"
      ],
      "execution_count": 9,
      "outputs": []
    },
    {
      "cell_type": "code",
      "metadata": {
        "colab": {
          "base_uri": "https://localhost:8080/"
        },
        "id": "TjCdAtw8vGhE",
        "outputId": "88ee77d9-c495-4585-e33b-1d5885a8bb61"
      },
      "source": [
        "root = BinaryNode(\"R\", BinaryNode(\"C\"), BinaryNode(\"H\"))\n",
        "print(root.left.data)"
      ],
      "execution_count": 5,
      "outputs": [
        {
          "output_type": "stream",
          "name": "stdout",
          "text": [
            "C\n"
          ]
        }
      ]
    },
    {
      "cell_type": "code",
      "metadata": {
        "colab": {
          "base_uri": "https://localhost:8080/"
        },
        "id": "3thACSsNwLbx",
        "outputId": "6fa1364a-a587-4be3-8f6b-e8379ee6e96d"
      },
      "source": [
        "root = TernaryNode(4,TernaryNode(3,TernaryNode(5,left=TernaryNode(2)),\\\n",
        "                                 TernaryNode(5),TernaryNode(2)), None, TernaryNode(5))\n",
        "print(root.left.left.left.data)\n",
        "print(\"---------------\")\n",
        "aux = root\n",
        "while aux.left != None:\n",
        "  aux = aux.left\n",
        "print(aux.data)\n",
        "print(\"---------------\")\n",
        "print(root.left.rigth.data)"
      ],
      "execution_count": 10,
      "outputs": [
        {
          "output_type": "stream",
          "name": "stdout",
          "text": [
            "2\n",
            "---------------\n",
            "2\n",
            "---------------\n",
            "2\n"
          ]
        }
      ]
    },
    {
      "cell_type": "code",
      "metadata": {
        "colab": {
          "base_uri": "https://localhost:8080/"
        },
        "id": "nA380v_H4-ja",
        "outputId": "dc45f395-0280-4f3f-dabb-861c611e75e0"
      },
      "source": [
        "root = BinaryNode(\"Santi\", None, BinaryNode(\"Jesus\",BinaryNode(\"Pedro\",None,BinaryNode(\"Pedro Jr\")),None))\n",
        "print(root.rigth.left.rigth.data)"
      ],
      "execution_count": 15,
      "outputs": [
        {
          "output_type": "stream",
          "name": "stdout",
          "text": [
            "Pedro Jr\n"
          ]
        }
      ]
    }
  ]
}