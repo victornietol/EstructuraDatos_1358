{
  "nbformat": 4,
  "nbformat_minor": 0,
  "metadata": {
    "colab": {
      "name": "Pilas_1358_29/10/21.ipynb",
      "provenance": [],
      "authorship_tag": "ABX9TyNiS23pF4bhFT08qRRHdE7z",
      "include_colab_link": true
    },
    "kernelspec": {
      "name": "python3",
      "display_name": "Python 3"
    },
    "language_info": {
      "name": "python"
    }
  },
  "cells": [
    {
      "cell_type": "markdown",
      "metadata": {
        "id": "view-in-github",
        "colab_type": "text"
      },
      "source": [
        "<a href=\"https://colab.research.google.com/github/victornietol/EstructuraDatos_1358/blob/master/Pilas_1358_29_10_21.ipynb\" target=\"_parent\"><img src=\"https://colab.research.google.com/assets/colab-badge.svg\" alt=\"Open In Colab\"/></a>"
      ]
    },
    {
      "cell_type": "code",
      "metadata": {
        "id": "4JhQyt2WSLvE"
      },
      "source": [
        "class StackADT:\n",
        "  def __init__(self):\n",
        "    self.data = list()\n",
        "    self.tope = 0\n",
        "\n",
        "  def is_empty(self):\n",
        "    return self.tope == 0\n",
        "\n",
        "  def length(self):\n",
        "    return self.tope \n",
        "\n",
        "  def pop(self):\n",
        "    if not self.is_empty():    # en otros lenguajes \"not\" es igual \"!\"\n",
        "      self.tope -=1\n",
        "      return self.data.pop()\n",
        "  \n",
        "  def peek(self):\n",
        "    return self.data[self.tope -1]    # tambien se puede usar --> return self.data[ self.length() - 1]\n",
        "\n",
        "  def push(self, value):\n",
        "    self.data.append(value)\n",
        "    self.tope += 1\n",
        "\n",
        "  def to_string(self):\n",
        "    print(\"Estado de la pìla es: \")\n",
        "    for elem in self.data[::-1]:\n",
        "      print(f\"| {elem} |\")"
      ],
      "execution_count": 2,
      "outputs": []
    },
    {
      "cell_type": "code",
      "metadata": {
        "colab": {
          "base_uri": "https://localhost:8080/"
        },
        "id": "h9uqBn1HYCrV",
        "outputId": "0fde98b4-e94e-48b6-c1d4-1727f44ad8f2"
      },
      "source": [
        "pila = StackADT()\n",
        "pila.push(10)\n",
        "pila.push(20)\n",
        "pila.push(30)\n",
        "pila.to_string()\n",
        "\n",
        "print(\"llamada a peek\", pila.peek())\n",
        "print(\"llamada a pop\", pila.pop())\n",
        "\n",
        "pila.to_string()\n",
        "pila.push(25)\n",
        "pila.push(26)\n",
        "print(\"despues de meter 25 y 26\")\n",
        "pila.to_string()\n",
        "print(f\"la pila tiene {pila.length()} elementos\")\n",
        "pila.pop()\n",
        "pila.pop()\n",
        "pila.pop()\n",
        "pila.pop()\n",
        "print(f\"la pila tiene {pila.length()} elementos\")"
      ],
      "execution_count": 3,
      "outputs": [
        {
          "output_type": "stream",
          "name": "stdout",
          "text": [
            "Estado de la pìla es: \n",
            "| 30 |\n",
            "| 20 |\n",
            "| 10 |\n",
            "llamada a peek 30\n",
            "llamada a pop 30\n",
            "Estado de la pìla es: \n",
            "| 20 |\n",
            "| 10 |\n",
            "despues de meter 25 y 26\n",
            "Estado de la pìla es: \n",
            "| 26 |\n",
            "| 25 |\n",
            "| 20 |\n",
            "| 10 |\n",
            "la pila tiene 4 elementos\n",
            "la pila tiene 0 elementos\n"
          ]
        }
      ]
    },
    {
      "cell_type": "code",
      "metadata": {
        "id": "-YBKyZPUfFKB"
      },
      "source": [
        "class Array2D():\n",
        "  def __init__(self, ren, col):\n",
        "    self.__columnas = col\n",
        "    self.__renglones = ren\n",
        "    self.__data = [[ 0 for i in range(col)]for i in range (ren)]\n",
        "\n",
        "  def to_string(self):\n",
        "    for i in range(self.__renglones):\n",
        "      print(self.__data[i])\n",
        "\n",
        "  def clear(self, dato):\n",
        "    for i in range (self.__renglones):\n",
        "      for x in range(self.__columnas):\n",
        "        self.__data[i][x] = dato\n",
        "\n",
        "  def get_row_size(self):\n",
        "    return self.__renglones\n",
        "\n",
        "  def get_col_size(self):\n",
        "    return self.__columnas\n",
        "\n",
        "  def set_item(self,ren,col,dato):\n",
        "    self.__data[ren][col] = dato\n",
        "\n",
        "  def get_item(self,ren,col):\n",
        "    return self.__data[ren][col]\n"
      ],
      "execution_count": 1,
      "outputs": []
    },
    {
      "cell_type": "code",
      "metadata": {
        "id": "N74Gqj42qW8T"
      },
      "source": [
        "class LaberintoADT:\n",
        "  def __init__(self, archivo):\n",
        "    self.laberinto = None  # Array2D\n",
        "    self.camino = StackADT()\n",
        "    self.inicializa( archivo )\n",
        "    self.laberinto.to_string()\n",
        "    print(\"Stack\")\n",
        "    self.camino.to_string()\n",
        "\n",
        "  \"\"\"\n",
        "  P -> pared\n",
        "  C -> corredor\n",
        "  E -> entrada\n",
        "  S -> salida\n",
        "  x -> ya visitado\n",
        "  \"\"\"\n",
        "    \n",
        "  def inicializa(self, archivo):\n",
        "    entrada = open( archivo, 'rt')\n",
        "    self.laberinto = Array2D( int(entrada.readline().strip()) , int(entrada.readline().strip()) )\n",
        "    self.laberinto.clear('P')\n",
        "    lineas = entrada.readlines()\n",
        "    #print(\"Lineas: \")\n",
        "    #print(lineas)\n",
        "    for r in range( len(lineas) ):\n",
        "      lineaBis = lineas[r].strip().split(',')\n",
        "      for c in range( len(lineaBis) ):\n",
        "        self.laberinto.set_item(r,c,lineaBis[c])\n",
        "\n",
        "    # buscar la entrada\n",
        "    for r in range( self.laberinto.get_row_size() ):\n",
        "      for c in range( self.laberinto.get_col_size() ):\n",
        "        if self.laberinto.get_item(r,c) == 'E':\n",
        "          self.camino.push( (r,c) )\n"
      ],
      "execution_count": 14,
      "outputs": []
    },
    {
      "cell_type": "code",
      "metadata": {
        "colab": {
          "base_uri": "https://localhost:8080/"
        },
        "id": "ANkYv9nmuLrm",
        "outputId": "e199a5f4-af16-40f8-c405-934dc2f57087"
      },
      "source": [
        "juego = LaberintoADT('entrada.txt')"
      ],
      "execution_count": 13,
      "outputs": [
        {
          "output_type": "stream",
          "name": "stdout",
          "text": [
            "['P', 'P', 'P', 'P', 'P']\n",
            "['P', 'P', 'C', 'C', 'S']\n",
            "['P', 'C', 'C', 'P', 'P']\n",
            "['P', 'P', 'C', 'P', 'P']\n",
            "['P', 'P', 'E', 'P', 'P']\n"
          ]
        }
      ]
    }
  ]
}